{
 "cells": [
  {
   "cell_type": "markdown",
   "id": "f0045f2f-d4c1-4cde-88c1-c1c6cfe2477d",
   "metadata": {},
   "source": [
    "L’objectif est ici d'etudier un cas préesentant un problème de prédiction que ce soit dans le cadre de\n",
    "la régression ou de la catégorisation. Vous devrez pour cela implémenter le code permettant de mettre\n",
    "en oeuvre les points suivants :\n",
    "\n",
    "— La lecture des données (que vous fournirez avec votre dossier en format .csv ou .xls ou .RData).\n",
    "— Le pré-traitement des données si nécessaire.\n",
    "\n",
    "— La validation croisée permettant d’évaluer les performances des méthodes suivantes :\n",
    "— Modèle linéaire pénalisé par une fonction de régularisation elasticnet.\n",
    "— Réseau de neuronnes avec une couche cachée.\n",
    "— SVM.\n",
    "\n",
    "— Autre m´ethode de votre choix sortant des techniques vues en cours (optionel).\n",
    "Pour chaque type de méthode, vous testerez plusieurs ensembles de paramètres.\n",
    "\n",
    "\n",
    "— Des graphiques permettant de comparer les résultats de chaque méthode avec les différents paramètres utilisés.\n",
    "— Des graphiques permettant de comparer les meilleurs modèles des trois types de méthodes."
   ]
  },
  {
   "cell_type": "markdown",
   "id": "5c014bd9-0b7d-4499-9019-75621de6d2a7",
   "metadata": {},
   "source": [
    "## Lecture des données"
   ]
  },
  {
   "cell_type": "markdown",
   "id": "35f9101a-351d-4c51-a522-66042ade4d0f",
   "metadata": {},
   "source": [
    "Notre jeu de données porte sur les haricots secs. \n",
    "\n",
    "Il comporte 13 611 observations (grains) pour 7 espèces différentes sur lesquelles nous souhaitons faire de la classification.\n",
    "\n",
    "Les données ont été obtenues après des étapes de segmentation et d'extraction de caractéristiques sur des images prises par un système de vision par ordinateur utilisant une caméra haute résolution.\n",
    "\n",
    "Les variables explicatives sont au nombre de 16 et sont relatives aux caractéristiques des grains : \n",
    "\n",
    "1.) Area (A): La surface d'une zone de haricot et le nombre de pixels à l'intérieur de ses limites.\n",
    "\n",
    "2.) Perimeter (P): La circonférence d'un haricot est définie comme la longueur de sa bordure.\n",
    "\n",
    "3.) Major axis length (L): La distance entre les extrémités de la ligne la plus longue qui peut être tracée à partir d'un haricot.\n",
    "\n",
    "4.) Minor axis length (l): La plus longue ligne que l'on peut tracer à partir d'un haricot en étant perpendiculaire à l'axe principal.\n",
    "\n",
    "5.) Aspect ratio (K): Définit la relation entre L et l.\n",
    "\n",
    "6.) Eccentricity (Ec): Excentricité de l'ellipse ayant les mêmes moments que la région.\n",
    "\n",
    "7.) Convex area (C): Nombre de pixels dans le plus petit polygone convexe qui peut contenir la surface d'une graine de haricot.\n",
    "\n",
    "8.) Equivalent diameter (Ed): Le diamètre d'un cercle ayant la même surface que celle d'une graine de haricot.\n",
    "\n",
    "9.) Extent (Ex): Le rapport entre les pixels de la boîte englobante et la surface du haricot.\n",
    "\n",
    "10.) Solidity (S): Le rapport entre les pixels de la coquille convexe et ceux que l'on trouve dans les haricots.\n",
    "\n",
    "11.) Roundness (R): Calculée à l'aide de la formule suivante : (4piA)/(P^2)\n",
    "\n",
    "12.)Compactness (CO): Mesure la rondeur d'un objet : Ed/L\n",
    "\n",
    "13.)ShapeFactor1 (SF1) = L/A\n",
    "\n",
    "14.)ShapeFactor2 (SF2) = l/A\n",
    "\n",
    "15.)ShapeFactor3 (SF3)\n",
    "\n",
    "16.)ShapeFactor4 (SF4)\n",
    "\n",
    "17.) Class (Seker, Barbunya, Bombay, Cali, Dermosan, Horoz and Sira)"
   ]
  },
  {
   "cell_type": "code",
   "execution_count": 2,
   "id": "bd4a93d4-d441-4a8d-ade0-b878c1aa1b7d",
   "metadata": {},
   "outputs": [
    {
     "name": "stderr",
     "output_type": "stream",
     "text": [
      "Warning message:\n",
      "\"package 'xlsx' was built under R version 4.1.2\"\n",
      "Warning message:\n",
      "\"package 'lessR' was built under R version 4.1.2\"\n",
      "\n",
      "lessR 4.1.3  feedback: gerbing@pdx.edu  web: lessRstats.com/new\n",
      "---------------------------------------------------------------\n",
      "> d <- Read(\"\")   Read text, Excel, SPSS, SAS, or R data file\n",
      "  d is default data frame, data= in analysis routines optional\n",
      "\n",
      "Learn about reading, writing, and manipulating data, graphics,\n",
      "testing means and proportions, regression, factor analysis,\n",
      "customization, and descriptive statistics from pivot tables.\n",
      "  Enter:  browseVignettes(\"lessR\")\n",
      "\n",
      "View changes in this new version of lessR.\n",
      "  Enter: help(package=lessR)  Click: Package NEWS\n",
      "  Enter: interact()  for access to interactive graphics\n",
      "\n",
      "\n",
      "Loading required package: lattice\n",
      "\n",
      "Loading required package: survival\n",
      "\n",
      "Loading required package: Formula\n",
      "\n",
      "\n",
      "Attaching package: 'Hmisc'\n",
      "\n",
      "\n",
      "The following objects are masked from 'package:lessR':\n",
      "\n",
      "    label, Merge\n",
      "\n",
      "\n",
      "The following objects are masked from 'package:base':\n",
      "\n",
      "    format.pval, units\n",
      "\n",
      "\n",
      "\n",
      "Attaching package: 'dplyr'\n",
      "\n",
      "\n",
      "The following objects are masked from 'package:Hmisc':\n",
      "\n",
      "    src, summarize\n",
      "\n",
      "\n",
      "The following object is masked from 'package:lessR':\n",
      "\n",
      "    recode\n",
      "\n",
      "\n",
      "The following objects are masked from 'package:stats':\n",
      "\n",
      "    filter, lag\n",
      "\n",
      "\n",
      "The following objects are masked from 'package:base':\n",
      "\n",
      "    intersect, setdiff, setequal, union\n",
      "\n",
      "\n"
     ]
    }
   ],
   "source": [
    "library(xlsx)\n",
    "library(ggplot2)\n",
    "library(lessR)\n",
    "library(Hmisc)\n",
    "library(dplyr)"
   ]
  },
  {
   "cell_type": "code",
   "execution_count": 3,
   "id": "c38757e0-9862-48ee-811c-5bebf61074ed",
   "metadata": {},
   "outputs": [],
   "source": [
    "data = read.xlsx('Dry_Bean_Dataset.xlsx',sheetIndex = 1,stringsAsFactors=TRUE)"
   ]
  },
  {
   "cell_type": "code",
   "execution_count": 4,
   "id": "793e731c-9c76-4d64-af13-7433aed518c9",
   "metadata": {},
   "outputs": [
    {
     "data": {
      "text/html": [
       "<table class=\"dataframe\">\n",
       "<caption>A data.frame: 6 × 17</caption>\n",
       "<thead>\n",
       "\t<tr><th></th><th scope=col>Area</th><th scope=col>Perimeter</th><th scope=col>MajorAxisLength</th><th scope=col>MinorAxisLength</th><th scope=col>AspectRation</th><th scope=col>Eccentricity</th><th scope=col>ConvexArea</th><th scope=col>EquivDiameter</th><th scope=col>Extent</th><th scope=col>Solidity</th><th scope=col>roundness</th><th scope=col>Compactness</th><th scope=col>ShapeFactor1</th><th scope=col>ShapeFactor2</th><th scope=col>ShapeFactor3</th><th scope=col>ShapeFactor4</th><th scope=col>Class</th></tr>\n",
       "\t<tr><th></th><th scope=col>&lt;dbl&gt;</th><th scope=col>&lt;dbl&gt;</th><th scope=col>&lt;dbl&gt;</th><th scope=col>&lt;dbl&gt;</th><th scope=col>&lt;dbl&gt;</th><th scope=col>&lt;dbl&gt;</th><th scope=col>&lt;dbl&gt;</th><th scope=col>&lt;dbl&gt;</th><th scope=col>&lt;dbl&gt;</th><th scope=col>&lt;dbl&gt;</th><th scope=col>&lt;dbl&gt;</th><th scope=col>&lt;dbl&gt;</th><th scope=col>&lt;dbl&gt;</th><th scope=col>&lt;dbl&gt;</th><th scope=col>&lt;dbl&gt;</th><th scope=col>&lt;dbl&gt;</th><th scope=col>&lt;fct&gt;</th></tr>\n",
       "</thead>\n",
       "<tbody>\n",
       "\t<tr><th scope=row>1</th><td>28395</td><td>610.291</td><td>208.1781</td><td>173.8887</td><td>1.197191</td><td>0.5498122</td><td>28715</td><td>190.1411</td><td>0.7639225</td><td>0.9888560</td><td>0.9580271</td><td>0.9133578</td><td>0.007331506</td><td>0.003147289</td><td>0.8342224</td><td>0.9987239</td><td>SEKER</td></tr>\n",
       "\t<tr><th scope=row>2</th><td>28734</td><td>638.018</td><td>200.5248</td><td>182.7344</td><td>1.097356</td><td>0.4117853</td><td>29172</td><td>191.2728</td><td>0.7839681</td><td>0.9849856</td><td>0.8870336</td><td>0.9538608</td><td>0.006978659</td><td>0.003563624</td><td>0.9098505</td><td>0.9984303</td><td>SEKER</td></tr>\n",
       "\t<tr><th scope=row>3</th><td>29380</td><td>624.110</td><td>212.8261</td><td>175.9311</td><td>1.209713</td><td>0.5627273</td><td>29690</td><td>193.4109</td><td>0.7781132</td><td>0.9895588</td><td>0.9478495</td><td>0.9087742</td><td>0.007243912</td><td>0.003047733</td><td>0.8258706</td><td>0.9990661</td><td>SEKER</td></tr>\n",
       "\t<tr><th scope=row>4</th><td>30008</td><td>645.884</td><td>210.5580</td><td>182.5165</td><td>1.153638</td><td>0.4986160</td><td>30724</td><td>195.4671</td><td>0.7826813</td><td>0.9766957</td><td>0.9039364</td><td>0.9283288</td><td>0.007016729</td><td>0.003214562</td><td>0.8617944</td><td>0.9941988</td><td>SEKER</td></tr>\n",
       "\t<tr><th scope=row>5</th><td>30140</td><td>620.134</td><td>201.8479</td><td>190.2793</td><td>1.060798</td><td>0.3336797</td><td>30417</td><td>195.8965</td><td>0.7730980</td><td>0.9908933</td><td>0.9848771</td><td>0.9705155</td><td>0.006697010</td><td>0.003664972</td><td>0.9419004</td><td>0.9991661</td><td>SEKER</td></tr>\n",
       "\t<tr><th scope=row>6</th><td>30279</td><td>634.927</td><td>212.5606</td><td>181.5102</td><td>1.171067</td><td>0.5204007</td><td>30600</td><td>196.3477</td><td>0.7756885</td><td>0.9895098</td><td>0.9438518</td><td>0.9237260</td><td>0.007020065</td><td>0.003152779</td><td>0.8532696</td><td>0.9992358</td><td>SEKER</td></tr>\n",
       "</tbody>\n",
       "</table>\n"
      ],
      "text/latex": [
       "A data.frame: 6 × 17\n",
       "\\begin{tabular}{r|lllllllllllllllll}\n",
       "  & Area & Perimeter & MajorAxisLength & MinorAxisLength & AspectRation & Eccentricity & ConvexArea & EquivDiameter & Extent & Solidity & roundness & Compactness & ShapeFactor1 & ShapeFactor2 & ShapeFactor3 & ShapeFactor4 & Class\\\\\n",
       "  & <dbl> & <dbl> & <dbl> & <dbl> & <dbl> & <dbl> & <dbl> & <dbl> & <dbl> & <dbl> & <dbl> & <dbl> & <dbl> & <dbl> & <dbl> & <dbl> & <fct>\\\\\n",
       "\\hline\n",
       "\t1 & 28395 & 610.291 & 208.1781 & 173.8887 & 1.197191 & 0.5498122 & 28715 & 190.1411 & 0.7639225 & 0.9888560 & 0.9580271 & 0.9133578 & 0.007331506 & 0.003147289 & 0.8342224 & 0.9987239 & SEKER\\\\\n",
       "\t2 & 28734 & 638.018 & 200.5248 & 182.7344 & 1.097356 & 0.4117853 & 29172 & 191.2728 & 0.7839681 & 0.9849856 & 0.8870336 & 0.9538608 & 0.006978659 & 0.003563624 & 0.9098505 & 0.9984303 & SEKER\\\\\n",
       "\t3 & 29380 & 624.110 & 212.8261 & 175.9311 & 1.209713 & 0.5627273 & 29690 & 193.4109 & 0.7781132 & 0.9895588 & 0.9478495 & 0.9087742 & 0.007243912 & 0.003047733 & 0.8258706 & 0.9990661 & SEKER\\\\\n",
       "\t4 & 30008 & 645.884 & 210.5580 & 182.5165 & 1.153638 & 0.4986160 & 30724 & 195.4671 & 0.7826813 & 0.9766957 & 0.9039364 & 0.9283288 & 0.007016729 & 0.003214562 & 0.8617944 & 0.9941988 & SEKER\\\\\n",
       "\t5 & 30140 & 620.134 & 201.8479 & 190.2793 & 1.060798 & 0.3336797 & 30417 & 195.8965 & 0.7730980 & 0.9908933 & 0.9848771 & 0.9705155 & 0.006697010 & 0.003664972 & 0.9419004 & 0.9991661 & SEKER\\\\\n",
       "\t6 & 30279 & 634.927 & 212.5606 & 181.5102 & 1.171067 & 0.5204007 & 30600 & 196.3477 & 0.7756885 & 0.9895098 & 0.9438518 & 0.9237260 & 0.007020065 & 0.003152779 & 0.8532696 & 0.9992358 & SEKER\\\\\n",
       "\\end{tabular}\n"
      ],
      "text/markdown": [
       "\n",
       "A data.frame: 6 × 17\n",
       "\n",
       "| <!--/--> | Area &lt;dbl&gt; | Perimeter &lt;dbl&gt; | MajorAxisLength &lt;dbl&gt; | MinorAxisLength &lt;dbl&gt; | AspectRation &lt;dbl&gt; | Eccentricity &lt;dbl&gt; | ConvexArea &lt;dbl&gt; | EquivDiameter &lt;dbl&gt; | Extent &lt;dbl&gt; | Solidity &lt;dbl&gt; | roundness &lt;dbl&gt; | Compactness &lt;dbl&gt; | ShapeFactor1 &lt;dbl&gt; | ShapeFactor2 &lt;dbl&gt; | ShapeFactor3 &lt;dbl&gt; | ShapeFactor4 &lt;dbl&gt; | Class &lt;fct&gt; |\n",
       "|---|---|---|---|---|---|---|---|---|---|---|---|---|---|---|---|---|---|\n",
       "| 1 | 28395 | 610.291 | 208.1781 | 173.8887 | 1.197191 | 0.5498122 | 28715 | 190.1411 | 0.7639225 | 0.9888560 | 0.9580271 | 0.9133578 | 0.007331506 | 0.003147289 | 0.8342224 | 0.9987239 | SEKER |\n",
       "| 2 | 28734 | 638.018 | 200.5248 | 182.7344 | 1.097356 | 0.4117853 | 29172 | 191.2728 | 0.7839681 | 0.9849856 | 0.8870336 | 0.9538608 | 0.006978659 | 0.003563624 | 0.9098505 | 0.9984303 | SEKER |\n",
       "| 3 | 29380 | 624.110 | 212.8261 | 175.9311 | 1.209713 | 0.5627273 | 29690 | 193.4109 | 0.7781132 | 0.9895588 | 0.9478495 | 0.9087742 | 0.007243912 | 0.003047733 | 0.8258706 | 0.9990661 | SEKER |\n",
       "| 4 | 30008 | 645.884 | 210.5580 | 182.5165 | 1.153638 | 0.4986160 | 30724 | 195.4671 | 0.7826813 | 0.9766957 | 0.9039364 | 0.9283288 | 0.007016729 | 0.003214562 | 0.8617944 | 0.9941988 | SEKER |\n",
       "| 5 | 30140 | 620.134 | 201.8479 | 190.2793 | 1.060798 | 0.3336797 | 30417 | 195.8965 | 0.7730980 | 0.9908933 | 0.9848771 | 0.9705155 | 0.006697010 | 0.003664972 | 0.9419004 | 0.9991661 | SEKER |\n",
       "| 6 | 30279 | 634.927 | 212.5606 | 181.5102 | 1.171067 | 0.5204007 | 30600 | 196.3477 | 0.7756885 | 0.9895098 | 0.9438518 | 0.9237260 | 0.007020065 | 0.003152779 | 0.8532696 | 0.9992358 | SEKER |\n",
       "\n"
      ],
      "text/plain": [
       "  Area  Perimeter MajorAxisLength MinorAxisLength AspectRation Eccentricity\n",
       "1 28395 610.291   208.1781        173.8887        1.197191     0.5498122   \n",
       "2 28734 638.018   200.5248        182.7344        1.097356     0.4117853   \n",
       "3 29380 624.110   212.8261        175.9311        1.209713     0.5627273   \n",
       "4 30008 645.884   210.5580        182.5165        1.153638     0.4986160   \n",
       "5 30140 620.134   201.8479        190.2793        1.060798     0.3336797   \n",
       "6 30279 634.927   212.5606        181.5102        1.171067     0.5204007   \n",
       "  ConvexArea EquivDiameter Extent    Solidity  roundness Compactness\n",
       "1 28715      190.1411      0.7639225 0.9888560 0.9580271 0.9133578  \n",
       "2 29172      191.2728      0.7839681 0.9849856 0.8870336 0.9538608  \n",
       "3 29690      193.4109      0.7781132 0.9895588 0.9478495 0.9087742  \n",
       "4 30724      195.4671      0.7826813 0.9766957 0.9039364 0.9283288  \n",
       "5 30417      195.8965      0.7730980 0.9908933 0.9848771 0.9705155  \n",
       "6 30600      196.3477      0.7756885 0.9895098 0.9438518 0.9237260  \n",
       "  ShapeFactor1 ShapeFactor2 ShapeFactor3 ShapeFactor4 Class\n",
       "1 0.007331506  0.003147289  0.8342224    0.9987239    SEKER\n",
       "2 0.006978659  0.003563624  0.9098505    0.9984303    SEKER\n",
       "3 0.007243912  0.003047733  0.8258706    0.9990661    SEKER\n",
       "4 0.007016729  0.003214562  0.8617944    0.9941988    SEKER\n",
       "5 0.006697010  0.003664972  0.9419004    0.9991661    SEKER\n",
       "6 0.007020065  0.003152779  0.8532696    0.9992358    SEKER"
      ]
     },
     "metadata": {},
     "output_type": "display_data"
    }
   ],
   "source": [
    "head(data)"
   ]
  },
  {
   "cell_type": "code",
   "execution_count": 5,
   "id": "4b7714a5-7eaa-499a-a467-caf9d5a854fe",
   "metadata": {},
   "outputs": [
    {
     "data": {
      "text/html": [
       "<style>\n",
       ".list-inline {list-style: none; margin:0; padding: 0}\n",
       ".list-inline>li {display: inline-block}\n",
       ".list-inline>li:not(:last-child)::after {content: \"\\00b7\"; padding: 0 .5ex}\n",
       "</style>\n",
       "<ol class=list-inline><li>13611</li><li>17</li></ol>\n"
      ],
      "text/latex": [
       "\\begin{enumerate*}\n",
       "\\item 13611\n",
       "\\item 17\n",
       "\\end{enumerate*}\n"
      ],
      "text/markdown": [
       "1. 13611\n",
       "2. 17\n",
       "\n",
       "\n"
      ],
      "text/plain": [
       "[1] 13611    17"
      ]
     },
     "metadata": {},
     "output_type": "display_data"
    }
   ],
   "source": [
    "dim(data)"
   ]
  },
  {
   "cell_type": "code",
   "execution_count": 6,
   "id": "ef6483ce-c5ff-4706-81ab-52abb59cd9af",
   "metadata": {},
   "outputs": [
    {
     "data": {
      "text/plain": [
       "      Area          Perimeter      MajorAxisLength MinorAxisLength\n",
       " Min.   : 20420   Min.   : 524.7   Min.   :183.6   Min.   :122.5  \n",
       " 1st Qu.: 36328   1st Qu.: 703.5   1st Qu.:253.3   1st Qu.:175.8  \n",
       " Median : 44652   Median : 794.9   Median :296.9   Median :192.4  \n",
       " Mean   : 53048   Mean   : 855.3   Mean   :320.1   Mean   :202.3  \n",
       " 3rd Qu.: 61332   3rd Qu.: 977.2   3rd Qu.:376.5   3rd Qu.:217.0  \n",
       " Max.   :254616   Max.   :1985.4   Max.   :738.9   Max.   :460.2  \n",
       "                                                                  \n",
       "  AspectRation    Eccentricity      ConvexArea     EquivDiameter  \n",
       " Min.   :1.025   Min.   :0.2190   Min.   : 20684   Min.   :161.2  \n",
       " 1st Qu.:1.432   1st Qu.:0.7159   1st Qu.: 36715   1st Qu.:215.1  \n",
       " Median :1.551   Median :0.7644   Median : 45178   Median :238.4  \n",
       " Mean   :1.583   Mean   :0.7509   Mean   : 53768   Mean   :253.1  \n",
       " 3rd Qu.:1.707   3rd Qu.:0.8105   3rd Qu.: 62294   3rd Qu.:279.4  \n",
       " Max.   :2.430   Max.   :0.9114   Max.   :263261   Max.   :569.4  \n",
       "                                                                  \n",
       "     Extent          Solidity        roundness       Compactness    \n",
       " Min.   :0.5553   Min.   :0.9192   Min.   :0.4896   Min.   :0.6406  \n",
       " 1st Qu.:0.7186   1st Qu.:0.9857   1st Qu.:0.8321   1st Qu.:0.7625  \n",
       " Median :0.7599   Median :0.9883   Median :0.8832   Median :0.8013  \n",
       " Mean   :0.7497   Mean   :0.9871   Mean   :0.8733   Mean   :0.7999  \n",
       " 3rd Qu.:0.7869   3rd Qu.:0.9900   3rd Qu.:0.9169   3rd Qu.:0.8343  \n",
       " Max.   :0.8662   Max.   :0.9947   Max.   :0.9907   Max.   :0.9873  \n",
       "                                                                    \n",
       "  ShapeFactor1       ShapeFactor2        ShapeFactor3     ShapeFactor4   \n",
       " Min.   :0.002778   Min.   :0.0005642   Min.   :0.4103   Min.   :0.9477  \n",
       " 1st Qu.:0.005900   1st Qu.:0.0011535   1st Qu.:0.5814   1st Qu.:0.9937  \n",
       " Median :0.006645   Median :0.0016935   Median :0.6420   Median :0.9964  \n",
       " Mean   :0.006564   Mean   :0.0017159   Mean   :0.6436   Mean   :0.9951  \n",
       " 3rd Qu.:0.007271   3rd Qu.:0.0021703   3rd Qu.:0.6960   3rd Qu.:0.9979  \n",
       " Max.   :0.010451   Max.   :0.0036650   Max.   :0.9748   Max.   :0.9997  \n",
       "                                                                         \n",
       "      Class     \n",
       " BARBUNYA:1322  \n",
       " BOMBAY  : 522  \n",
       " CALI    :1630  \n",
       " DERMASON:3546  \n",
       " HOROZ   :1928  \n",
       " SEKER   :2027  \n",
       " SIRA    :2636  "
      ]
     },
     "metadata": {},
     "output_type": "display_data"
    }
   ],
   "source": [
    "summary(data)"
   ]
  },
  {
   "cell_type": "code",
   "execution_count": 7,
   "id": "dcf9bf31-c05d-4c00-825e-a5dd8e9138d2",
   "metadata": {},
   "outputs": [
    {
     "data": {
      "text/html": [
       "0"
      ],
      "text/latex": [
       "0"
      ],
      "text/markdown": [
       "0"
      ],
      "text/plain": [
       "[1] 0"
      ]
     },
     "metadata": {},
     "output_type": "display_data"
    }
   ],
   "source": [
    "# test si présence de valeurs manquantes\n",
    "sum(!complete.cases(data))"
   ]
  },
  {
   "cell_type": "code",
   "execution_count": 8,
   "id": "875f24b8-3ff4-45c0-9ce3-77f9b67f9620",
   "metadata": {},
   "outputs": [
    {
     "data": {
      "image/png": "[encoded data removed]",
      "text/plain": [
       "plot without title"
      ]
     },
     "metadata": {
      "image/png": {
       "height": 420,
       "width": 420
      }
     },
     "output_type": "display_data"
    }
   ],
   "source": [
    "ggplot(data = data, aes(x = Class)) +\n",
    "    geom_bar()"
   ]
  },
  {
   "cell_type": "code",
   "execution_count": 9,
   "id": "ff601819-e16c-412d-8cb6-67fecf7961d9",
   "metadata": {},
   "outputs": [],
   "source": [
    "X = data[,c(1:16)]\n",
    "y = data[,17]"
   ]
  }
 ],
 "metadata": {
  "kernelspec": {
   "display_name": "R",
   "language": "R",
   "name": "ir"
  },
  "language_info": {
   "codemirror_mode": "r",
   "file_extension": ".r",
   "mimetype": "text/x-r-source",
   "name": "R",
   "pygments_lexer": "r",
   "version": "4.1.1"
  }
 },
 "nbformat": 4,
 "nbformat_minor": 5
}
