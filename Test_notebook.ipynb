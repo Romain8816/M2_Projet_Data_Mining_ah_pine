{
 "cells": [
  {
   "cell_type": "markdown",
   "id": "f0045f2f-d4c1-4cde-88c1-c1c6cfe2477d",
   "metadata": {},
   "source": [
    "L’objectif est ici d'etudier un cas préesentant un problème de prédiction que ce soit dans le cadre de\n",
    "la régression ou de la catégorisation. Vous devrez pour cela implémenter le code permettant de mettre\n",
    "en oeuvre les points suivants :\n",
    "\n",
    "— La lecture des données (que vous fournirez avec votre dossier en format .csv ou .xls ou .RData).\n",
    "— Le pré-traitement des données si nécessaire.\n",
    "\n",
    "— La validation croisée permettant d’évaluer les performances des méthodes suivantes :\n",
    "— Modèle linéaire pénalisé par une fonction de régularisation elasticnet.\n",
    "— Réseau de neuronnes avec une couche cachée.\n",
    "— SVM.\n",
    "\n",
    "— Autre m´ethode de votre choix sortant des techniques vues en cours (optionel).\n",
    "Pour chaque type de méthode, vous testerez plusieurs ensembles de paramètres.\n",
    "\n",
    "\n",
    "— Des graphiques permettant de comparer les résultats de chaque méthode avec les différents paramètres utilisés.\n",
    "— Des graphiques permettant de comparer les meilleurs modèles des trois types de méthodes."
   ]
  },
  {
   "cell_type": "markdown",
   "id": "5c014bd9-0b7d-4499-9019-75621de6d2a7",
   "metadata": {},
   "source": [
    "## Lecture des données"
   ]
  },
  {
   "cell_type": "markdown",
   "id": "35f9101a-351d-4c51-a522-66042ade4d0f",
   "metadata": {},
   "source": [
    "Notre jeu de données porte sur les haricots secs. \n",
    "\n",
    "Il comporte 13 611 observations (grains) pour 7 espèces différentes sur lesquelles nous souhaitons faire de la classification.\n",
    "\n",
    "Les données ont été obtenues après des étapes de segmentation et d'extraction de caractéristiques sur des images prises par un système de vision par ordinateur utilisant une caméra haute résolution.\n",
    "\n",
    "Les variables explicatives sont au nombre de 16 et sont relatives aux caractéristiques des grains : \n",
    "\n",
    "1.) Area (A): La surface d'une zone de haricot et le nombre de pixels à l'intérieur de ses limites.\n",
    "\n",
    "2.) Perimeter (P): La circonférence d'un haricot est définie comme la longueur de sa bordure.\n",
    "\n",
    "3.) Major axis length (L): La distance entre les extrémités de la ligne la plus longue qui peut être tracée à partir d'un haricot.\n",
    "\n",
    "4.) Minor axis length (l): La plus longue ligne que l'on peut tracer à partir d'un haricot en étant perpendiculaire à l'axe principal.\n",
    "\n",
    "5.) Aspect ratio (K): Définit la relation entre L et l.\n",
    "\n",
    "6.) Eccentricity (Ec): Excentricité de l'ellipse ayant les mêmes moments que la région.\n",
    "\n",
    "7.) Convex area (C): Nombre de pixels dans le plus petit polygone convexe qui peut contenir la surface d'une graine de haricot.\n",
    "\n",
    "8.) Equivalent diameter (Ed): Le diamètre d'un cercle ayant la même surface que celle d'une graine de haricot.\n",
    "\n",
    "9.) Extent (Ex): Le rapport entre les pixels de la boîte englobante et la surface du haricot.\n",
    "\n",
    "10.) Solidity (S): Le rapport entre les pixels de la coquille convexe et ceux que l'on trouve dans les haricots.\n",
    "\n",
    "11.) Roundness (R): Calculée à l'aide de la formule suivante : (4piA)/(P^2)\n",
    "\n",
    "12.)Compactness (CO): Mesure la rondeur d'un objet : Ed/L\n",
    "\n",
    "13.)ShapeFactor1 (SF1) = L/A\n",
    "\n",
    "14.)ShapeFactor2 (SF2) = l/A\n",
    "\n",
    "15.)ShapeFactor3 (SF3)\n",
    "\n",
    "16.)ShapeFactor4 (SF4)\n",
    "\n",
    "17.) Class (Seker, Barbunya, Bombay, Cali, Dermosan, Horoz and Sira)"
   ]
  },
  {
   "cell_type": "code",
   "execution_count": 19,
   "id": "bd4a93d4-d441-4a8d-ade0-b878c1aa1b7d",
   "metadata": {},
   "outputs": [
    {
     "name": "stderr",
     "output_type": "stream",
     "text": [
      "\n",
      "Attaching package: 'caret'\n",
      "\n",
      "\n",
      "The following object is masked from 'package:survival':\n",
      "\n",
      "    cluster\n",
      "\n",
      "\n"
     ]
    }
   ],
   "source": [
    "library(caret)\n",
    "library(xlsx)\n",
    "library(ggplot2)\n",
    "library(lessR)\n",
    "library(Hmisc)\n",
    "library(dplyr)"
   ]
  },
  {
   "cell_type": "code",
   "execution_count": 3,
   "id": "c38757e0-9862-48ee-811c-5bebf61074ed",
   "metadata": {},
   "outputs": [],
   "source": [
    "data = read.xlsx('Dry_Bean_Dataset.xlsx',sheetIndex = 1,stringsAsFactors=TRUE)"
   ]
  },
  {
   "cell_type": "code",
   "execution_count": 4,
   "id": "793e731c-9c76-4d64-af13-7433aed518c9",
   "metadata": {},
   "outputs": [
    {
     "data": {
      "text/html": [
       "<table class=\"dataframe\">\n",
       "<caption>A data.frame: 6 × 17</caption>\n",
       "<thead>\n",
       "\t<tr><th></th><th scope=col>Area</th><th scope=col>Perimeter</th><th scope=col>MajorAxisLength</th><th scope=col>MinorAxisLength</th><th scope=col>AspectRation</th><th scope=col>Eccentricity</th><th scope=col>ConvexArea</th><th scope=col>EquivDiameter</th><th scope=col>Extent</th><th scope=col>Solidity</th><th scope=col>roundness</th><th scope=col>Compactness</th><th scope=col>ShapeFactor1</th><th scope=col>ShapeFactor2</th><th scope=col>ShapeFactor3</th><th scope=col>ShapeFactor4</th><th scope=col>Class</th></tr>\n",
       "\t<tr><th></th><th scope=col>&lt;dbl&gt;</th><th scope=col>&lt;dbl&gt;</th><th scope=col>&lt;dbl&gt;</th><th scope=col>&lt;dbl&gt;</th><th scope=col>&lt;dbl&gt;</th><th scope=col>&lt;dbl&gt;</th><th scope=col>&lt;dbl&gt;</th><th scope=col>&lt;dbl&gt;</th><th scope=col>&lt;dbl&gt;</th><th scope=col>&lt;dbl&gt;</th><th scope=col>&lt;dbl&gt;</th><th scope=col>&lt;dbl&gt;</th><th scope=col>&lt;dbl&gt;</th><th scope=col>&lt;dbl&gt;</th><th scope=col>&lt;dbl&gt;</th><th scope=col>&lt;dbl&gt;</th><th scope=col>&lt;fct&gt;</th></tr>\n",
       "</thead>\n",
       "<tbody>\n",
       "\t<tr><th scope=row>1</th><td>28395</td><td>610.291</td><td>208.1781</td><td>173.8887</td><td>1.197191</td><td>0.5498122</td><td>28715</td><td>190.1411</td><td>0.7639225</td><td>0.9888560</td><td>0.9580271</td><td>0.9133578</td><td>0.007331506</td><td>0.003147289</td><td>0.8342224</td><td>0.9987239</td><td>SEKER</td></tr>\n",
       "\t<tr><th scope=row>2</th><td>28734</td><td>638.018</td><td>200.5248</td><td>182.7344</td><td>1.097356</td><td>0.4117853</td><td>29172</td><td>191.2728</td><td>0.7839681</td><td>0.9849856</td><td>0.8870336</td><td>0.9538608</td><td>0.006978659</td><td>0.003563624</td><td>0.9098505</td><td>0.9984303</td><td>SEKER</td></tr>\n",
       "\t<tr><th scope=row>3</th><td>29380</td><td>624.110</td><td>212.8261</td><td>175.9311</td><td>1.209713</td><td>0.5627273</td><td>29690</td><td>193.4109</td><td>0.7781132</td><td>0.9895588</td><td>0.9478495</td><td>0.9087742</td><td>0.007243912</td><td>0.003047733</td><td>0.8258706</td><td>0.9990661</td><td>SEKER</td></tr>\n",
       "\t<tr><th scope=row>4</th><td>30008</td><td>645.884</td><td>210.5580</td><td>182.5165</td><td>1.153638</td><td>0.4986160</td><td>30724</td><td>195.4671</td><td>0.7826813</td><td>0.9766957</td><td>0.9039364</td><td>0.9283288</td><td>0.007016729</td><td>0.003214562</td><td>0.8617944</td><td>0.9941988</td><td>SEKER</td></tr>\n",
       "\t<tr><th scope=row>5</th><td>30140</td><td>620.134</td><td>201.8479</td><td>190.2793</td><td>1.060798</td><td>0.3336797</td><td>30417</td><td>195.8965</td><td>0.7730980</td><td>0.9908933</td><td>0.9848771</td><td>0.9705155</td><td>0.006697010</td><td>0.003664972</td><td>0.9419004</td><td>0.9991661</td><td>SEKER</td></tr>\n",
       "\t<tr><th scope=row>6</th><td>30279</td><td>634.927</td><td>212.5606</td><td>181.5102</td><td>1.171067</td><td>0.5204007</td><td>30600</td><td>196.3477</td><td>0.7756885</td><td>0.9895098</td><td>0.9438518</td><td>0.9237260</td><td>0.007020065</td><td>0.003152779</td><td>0.8532696</td><td>0.9992358</td><td>SEKER</td></tr>\n",
       "</tbody>\n",
       "</table>\n"
      ],
      "text/latex": [
       "A data.frame: 6 × 17\n",
       "\\begin{tabular}{r|lllllllllllllllll}\n",
       "  & Area & Perimeter & MajorAxisLength & MinorAxisLength & AspectRation & Eccentricity & ConvexArea & EquivDiameter & Extent & Solidity & roundness & Compactness & ShapeFactor1 & ShapeFactor2 & ShapeFactor3 & ShapeFactor4 & Class\\\\\n",
       "  & <dbl> & <dbl> & <dbl> & <dbl> & <dbl> & <dbl> & <dbl> & <dbl> & <dbl> & <dbl> & <dbl> & <dbl> & <dbl> & <dbl> & <dbl> & <dbl> & <fct>\\\\\n",
       "\\hline\n",
       "\t1 & 28395 & 610.291 & 208.1781 & 173.8887 & 1.197191 & 0.5498122 & 28715 & 190.1411 & 0.7639225 & 0.9888560 & 0.9580271 & 0.9133578 & 0.007331506 & 0.003147289 & 0.8342224 & 0.9987239 & SEKER\\\\\n",
       "\t2 & 28734 & 638.018 & 200.5248 & 182.7344 & 1.097356 & 0.4117853 & 29172 & 191.2728 & 0.7839681 & 0.9849856 & 0.8870336 & 0.9538608 & 0.006978659 & 0.003563624 & 0.9098505 & 0.9984303 & SEKER\\\\\n",
       "\t3 & 29380 & 624.110 & 212.8261 & 175.9311 & 1.209713 & 0.5627273 & 29690 & 193.4109 & 0.7781132 & 0.9895588 & 0.9478495 & 0.9087742 & 0.007243912 & 0.003047733 & 0.8258706 & 0.9990661 & SEKER\\\\\n",
       "\t4 & 30008 & 645.884 & 210.5580 & 182.5165 & 1.153638 & 0.4986160 & 30724 & 195.4671 & 0.7826813 & 0.9766957 & 0.9039364 & 0.9283288 & 0.007016729 & 0.003214562 & 0.8617944 & 0.9941988 & SEKER\\\\\n",
       "\t5 & 30140 & 620.134 & 201.8479 & 190.2793 & 1.060798 & 0.3336797 & 30417 & 195.8965 & 0.7730980 & 0.9908933 & 0.9848771 & 0.9705155 & 0.006697010 & 0.003664972 & 0.9419004 & 0.9991661 & SEKER\\\\\n",
       "\t6 & 30279 & 634.927 & 212.5606 & 181.5102 & 1.171067 & 0.5204007 & 30600 & 196.3477 & 0.7756885 & 0.9895098 & 0.9438518 & 0.9237260 & 0.007020065 & 0.003152779 & 0.8532696 & 0.9992358 & SEKER\\\\\n",
       "\\end{tabular}\n"
      ],
      "text/markdown": [
       "\n",
       "A data.frame: 6 × 17\n",
       "\n",
       "| <!--/--> | Area &lt;dbl&gt; | Perimeter &lt;dbl&gt; | MajorAxisLength &lt;dbl&gt; | MinorAxisLength &lt;dbl&gt; | AspectRation &lt;dbl&gt; | Eccentricity &lt;dbl&gt; | ConvexArea &lt;dbl&gt; | EquivDiameter &lt;dbl&gt; | Extent &lt;dbl&gt; | Solidity &lt;dbl&gt; | roundness &lt;dbl&gt; | Compactness &lt;dbl&gt; | ShapeFactor1 &lt;dbl&gt; | ShapeFactor2 &lt;dbl&gt; | ShapeFactor3 &lt;dbl&gt; | ShapeFactor4 &lt;dbl&gt; | Class &lt;fct&gt; |\n",
       "|---|---|---|---|---|---|---|---|---|---|---|---|---|---|---|---|---|---|\n",
       "| 1 | 28395 | 610.291 | 208.1781 | 173.8887 | 1.197191 | 0.5498122 | 28715 | 190.1411 | 0.7639225 | 0.9888560 | 0.9580271 | 0.9133578 | 0.007331506 | 0.003147289 | 0.8342224 | 0.9987239 | SEKER |\n",
       "| 2 | 28734 | 638.018 | 200.5248 | 182.7344 | 1.097356 | 0.4117853 | 29172 | 191.2728 | 0.7839681 | 0.9849856 | 0.8870336 | 0.9538608 | 0.006978659 | 0.003563624 | 0.9098505 | 0.9984303 | SEKER |\n",
       "| 3 | 29380 | 624.110 | 212.8261 | 175.9311 | 1.209713 | 0.5627273 | 29690 | 193.4109 | 0.7781132 | 0.9895588 | 0.9478495 | 0.9087742 | 0.007243912 | 0.003047733 | 0.8258706 | 0.9990661 | SEKER |\n",
       "| 4 | 30008 | 645.884 | 210.5580 | 182.5165 | 1.153638 | 0.4986160 | 30724 | 195.4671 | 0.7826813 | 0.9766957 | 0.9039364 | 0.9283288 | 0.007016729 | 0.003214562 | 0.8617944 | 0.9941988 | SEKER |\n",
       "| 5 | 30140 | 620.134 | 201.8479 | 190.2793 | 1.060798 | 0.3336797 | 30417 | 195.8965 | 0.7730980 | 0.9908933 | 0.9848771 | 0.9705155 | 0.006697010 | 0.003664972 | 0.9419004 | 0.9991661 | SEKER |\n",
       "| 6 | 30279 | 634.927 | 212.5606 | 181.5102 | 1.171067 | 0.5204007 | 30600 | 196.3477 | 0.7756885 | 0.9895098 | 0.9438518 | 0.9237260 | 0.007020065 | 0.003152779 | 0.8532696 | 0.9992358 | SEKER |\n",
       "\n"
      ],
      "text/plain": [
       "  Area  Perimeter MajorAxisLength MinorAxisLength AspectRation Eccentricity\n",
       "1 28395 610.291   208.1781        173.8887        1.197191     0.5498122   \n",
       "2 28734 638.018   200.5248        182.7344        1.097356     0.4117853   \n",
       "3 29380 624.110   212.8261        175.9311        1.209713     0.5627273   \n",
       "4 30008 645.884   210.5580        182.5165        1.153638     0.4986160   \n",
       "5 30140 620.134   201.8479        190.2793        1.060798     0.3336797   \n",
       "6 30279 634.927   212.5606        181.5102        1.171067     0.5204007   \n",
       "  ConvexArea EquivDiameter Extent    Solidity  roundness Compactness\n",
       "1 28715      190.1411      0.7639225 0.9888560 0.9580271 0.9133578  \n",
       "2 29172      191.2728      0.7839681 0.9849856 0.8870336 0.9538608  \n",
       "3 29690      193.4109      0.7781132 0.9895588 0.9478495 0.9087742  \n",
       "4 30724      195.4671      0.7826813 0.9766957 0.9039364 0.9283288  \n",
       "5 30417      195.8965      0.7730980 0.9908933 0.9848771 0.9705155  \n",
       "6 30600      196.3477      0.7756885 0.9895098 0.9438518 0.9237260  \n",
       "  ShapeFactor1 ShapeFactor2 ShapeFactor3 ShapeFactor4 Class\n",
       "1 0.007331506  0.003147289  0.8342224    0.9987239    SEKER\n",
       "2 0.006978659  0.003563624  0.9098505    0.9984303    SEKER\n",
       "3 0.007243912  0.003047733  0.8258706    0.9990661    SEKER\n",
       "4 0.007016729  0.003214562  0.8617944    0.9941988    SEKER\n",
       "5 0.006697010  0.003664972  0.9419004    0.9991661    SEKER\n",
       "6 0.007020065  0.003152779  0.8532696    0.9992358    SEKER"
      ]
     },
     "metadata": {},
     "output_type": "display_data"
    }
   ],
   "source": [
    "head(data)"
   ]
  },
  {
   "cell_type": "code",
   "execution_count": 5,
   "id": "4b7714a5-7eaa-499a-a467-caf9d5a854fe",
   "metadata": {},
   "outputs": [
    {
     "data": {
      "text/html": [
       "<style>\n",
       ".list-inline {list-style: none; margin:0; padding: 0}\n",
       ".list-inline>li {display: inline-block}\n",
       ".list-inline>li:not(:last-child)::after {content: \"\\00b7\"; padding: 0 .5ex}\n",
       "</style>\n",
       "<ol class=list-inline><li>13611</li><li>17</li></ol>\n"
      ],
      "text/latex": [
       "\\begin{enumerate*}\n",
       "\\item 13611\n",
       "\\item 17\n",
       "\\end{enumerate*}\n"
      ],
      "text/markdown": [
       "1. 13611\n",
       "2. 17\n",
       "\n",
       "\n"
      ],
      "text/plain": [
       "[1] 13611    17"
      ]
     },
     "metadata": {},
     "output_type": "display_data"
    }
   ],
   "source": [
    "dim(data)"
   ]
  },
  {
   "cell_type": "code",
   "execution_count": 6,
   "id": "ef6483ce-c5ff-4706-81ab-52abb59cd9af",
   "metadata": {},
   "outputs": [
    {
     "data": {
      "text/plain": [
       "      Area          Perimeter      MajorAxisLength MinorAxisLength\n",
       " Min.   : 20420   Min.   : 524.7   Min.   :183.6   Min.   :122.5  \n",
       " 1st Qu.: 36328   1st Qu.: 703.5   1st Qu.:253.3   1st Qu.:175.8  \n",
       " Median : 44652   Median : 794.9   Median :296.9   Median :192.4  \n",
       " Mean   : 53048   Mean   : 855.3   Mean   :320.1   Mean   :202.3  \n",
       " 3rd Qu.: 61332   3rd Qu.: 977.2   3rd Qu.:376.5   3rd Qu.:217.0  \n",
       " Max.   :254616   Max.   :1985.4   Max.   :738.9   Max.   :460.2  \n",
       "                                                                  \n",
       "  AspectRation    Eccentricity      ConvexArea     EquivDiameter  \n",
       " Min.   :1.025   Min.   :0.2190   Min.   : 20684   Min.   :161.2  \n",
       " 1st Qu.:1.432   1st Qu.:0.7159   1st Qu.: 36715   1st Qu.:215.1  \n",
       " Median :1.551   Median :0.7644   Median : 45178   Median :238.4  \n",
       " Mean   :1.583   Mean   :0.7509   Mean   : 53768   Mean   :253.1  \n",
       " 3rd Qu.:1.707   3rd Qu.:0.8105   3rd Qu.: 62294   3rd Qu.:279.4  \n",
       " Max.   :2.430   Max.   :0.9114   Max.   :263261   Max.   :569.4  \n",
       "                                                                  \n",
       "     Extent          Solidity        roundness       Compactness    \n",
       " Min.   :0.5553   Min.   :0.9192   Min.   :0.4896   Min.   :0.6406  \n",
       " 1st Qu.:0.7186   1st Qu.:0.9857   1st Qu.:0.8321   1st Qu.:0.7625  \n",
       " Median :0.7599   Median :0.9883   Median :0.8832   Median :0.8013  \n",
       " Mean   :0.7497   Mean   :0.9871   Mean   :0.8733   Mean   :0.7999  \n",
       " 3rd Qu.:0.7869   3rd Qu.:0.9900   3rd Qu.:0.9169   3rd Qu.:0.8343  \n",
       " Max.   :0.8662   Max.   :0.9947   Max.   :0.9907   Max.   :0.9873  \n",
       "                                                                    \n",
       "  ShapeFactor1       ShapeFactor2        ShapeFactor3     ShapeFactor4   \n",
       " Min.   :0.002778   Min.   :0.0005642   Min.   :0.4103   Min.   :0.9477  \n",
       " 1st Qu.:0.005900   1st Qu.:0.0011535   1st Qu.:0.5814   1st Qu.:0.9937  \n",
       " Median :0.006645   Median :0.0016935   Median :0.6420   Median :0.9964  \n",
       " Mean   :0.006564   Mean   :0.0017159   Mean   :0.6436   Mean   :0.9951  \n",
       " 3rd Qu.:0.007271   3rd Qu.:0.0021703   3rd Qu.:0.6960   3rd Qu.:0.9979  \n",
       " Max.   :0.010451   Max.   :0.0036650   Max.   :0.9748   Max.   :0.9997  \n",
       "                                                                         \n",
       "      Class     \n",
       " BARBUNYA:1322  \n",
       " BOMBAY  : 522  \n",
       " CALI    :1630  \n",
       " DERMASON:3546  \n",
       " HOROZ   :1928  \n",
       " SEKER   :2027  \n",
       " SIRA    :2636  "
      ]
     },
     "metadata": {},
     "output_type": "display_data"
    }
   ],
   "source": [
    "summary(data)"
   ]
  },
  {
   "cell_type": "code",
   "execution_count": 7,
   "id": "dcf9bf31-c05d-4c00-825e-a5dd8e9138d2",
   "metadata": {},
   "outputs": [
    {
     "data": {
      "text/html": [
       "0"
      ],
      "text/latex": [
       "0"
      ],
      "text/markdown": [
       "0"
      ],
      "text/plain": [
       "[1] 0"
      ]
     },
     "metadata": {},
     "output_type": "display_data"
    }
   ],
   "source": [
    "# test si présence de valeurs manquantes\n",
    "sum(!complete.cases(data))"
   ]
  },
  {
   "cell_type": "code",
   "execution_count": 8,
   "id": "875f24b8-3ff4-45c0-9ce3-77f9b67f9620",
   "metadata": {},
   "outputs": [
    {
     "data": {
      "image/png": "[encoded data removed]",
      "text/plain": [
       "plot without title"
      ]
     },
     "metadata": {
      "image/png": {
       "height": 420,
       "width": 420
      }
     },
     "output_type": "display_data"
    }
   ],
   "source": [
    "ggplot(data = data, aes(x = Class)) +\n",
    "    geom_bar()"
   ]
  },
  {
   "cell_type": "code",
   "execution_count": 9,
   "id": "ff601819-e16c-412d-8cb6-67fecf7961d9",
   "metadata": {},
   "outputs": [],
   "source": [
    "X = data[,c(1:16)]\n",
    "y = data[,17]"
   ]
  },
  {
   "cell_type": "code",
   "execution_count": 10,
   "id": "45e40b53-eb19-44e6-8d1b-268623524da3",
   "metadata": {},
   "outputs": [
    {
     "name": "stdout",
     "output_type": "stream",
     "text": [
      ">>> Suggestions\n",
      "PieChart(Class, hole=0)  # traditional pie chart\n",
      "PieChart(Class, values=\"%\")  # display %'s on the chart\n",
      "BarChart(Class)  # bar chart\n",
      "Plot(Class)  # bubble plot\n",
      "Plot(Class, values=\"count\")  # lollipop plot \n",
      "\n",
      "--- Class --- \n",
      "\n",
      "   Class   Count   Prop \n",
      "------------------------ \n",
      "BARBUNYA    1322   0.097 \n",
      "  BOMBAY     522   0.038 \n",
      "    CALI    1630   0.120 \n",
      "DERMASON    3546   0.261 \n",
      "   HOROZ    1928   0.142 \n",
      "   SEKER    2027   0.149 \n",
      "    SIRA    2636   0.194 \n",
      "------------------------ \n",
      "   Total   13611   1.000 \n",
      "\n",
      "Chi-squared test of null hypothesis of equal probabilities \n",
      "  Chisq = 2859.439, df = 6, p-value = 0.000 \n",
      "\n",
      "\n"
     ]
    }
   ],
   "source": [
    "PieChart(Class, hole = 0, values = \"%\", data = data, main = \"\")"
   ]
  },
  {
   "cell_type": "code",
   "execution_count": 11,
   "id": "6c6de93f-ab92-423d-a95b-3e31a3bcde86",
   "metadata": {},
   "outputs": [
    {
     "data": {
      "image/png": "[encoded data removed]",
      "text/plain": [
       "Plot with title \"\""
      ]
     },
     "metadata": {
      "image/png": {
       "height": 420,
       "width": 420
      }
     },
     "output_type": "display_data"
    }
   ],
   "source": [
    "hist.data.frame(X[,c(1:4)])"
   ]
  },
  {
   "cell_type": "code",
   "execution_count": 12,
   "id": "79c638ba-d26b-4a4b-ba98-2110da173e36",
   "metadata": {},
   "outputs": [
    {
     "data": {
      "image/png": "[encoded data removed]",
      "text/plain": [
       "Plot with title \"\""
      ]
     },
     "metadata": {
      "image/png": {
       "height": 420,
       "width": 420
      }
     },
     "output_type": "display_data"
    }
   ],
   "source": [
    "hist.data.frame(X[,c(5:8)])"
   ]
  },
  {
   "cell_type": "code",
   "execution_count": 13,
   "id": "11150004-ec7c-4f0d-a049-3e097959d34f",
   "metadata": {},
   "outputs": [
    {
     "data": {
      "image/png": "[encoded data removed]",
      "text/plain": [
       "Plot with title \"\""
      ]
     },
     "metadata": {
      "image/png": {
       "height": 420,
       "width": 420
      }
     },
     "output_type": "display_data"
    }
   ],
   "source": [
    "hist.data.frame(X[,c(9:12)])"
   ]
  },
  {
   "cell_type": "code",
   "execution_count": 14,
   "id": "9c53b0ca-f9d9-4699-be14-5ade778c69b9",
   "metadata": {},
   "outputs": [
    {
     "data": {
      "image/png": "[encoded data removed]",
      "text/plain": [
       "Plot with title \"\""
      ]
     },
     "metadata": {
      "image/png": {
       "height": 420,
       "width": 420
      }
     },
     "output_type": "display_data"
    }
   ],
   "source": [
    "hist.data.frame(X[,c(13:16)])"
   ]
  },
  {
   "cell_type": "code",
   "execution_count": 15,
   "id": "35e087ee-a4fa-41e7-b48b-c16365bed88b",
   "metadata": {},
   "outputs": [
    {
     "name": "stderr",
     "output_type": "stream",
     "text": [
      "Registered S3 method overwritten by 'GGally':\n",
      "  method from   \n",
      "  +.gg   ggplot2\n",
      "\n"
     ]
    },
    {
     "data": {
      "image/png": "[encoded data removed]",
      "text/plain": [
       "plot without title"
      ]
     },
     "metadata": {
      "image/png": {
       "height": 420,
       "width": 420
      }
     },
     "output_type": "display_data"
    }
   ],
   "source": [
    "library(GGally)\n",
    " \n",
    "ggpairs(data, columns = 1:3, ggplot2::aes(colour=Class)) "
   ]
  },
  {
   "cell_type": "code",
   "execution_count": 16,
   "id": "8c3a8542-93d7-4bdc-8c6d-6cc3ffb1f14e",
   "metadata": {},
   "outputs": [
    {
     "data": {
      "image/png": "[encoded data removed]",
      "text/plain": [
       "plot without title"
      ]
     },
     "metadata": {
      "image/png": {
       "height": 420,
       "width": 420
      }
     },
     "output_type": "display_data"
    }
   ],
   "source": [
    "ggpairs(data, columns = 4:7, ggplot2::aes(colour=Class))"
   ]
  },
  {
   "cell_type": "code",
   "execution_count": 50,
   "id": "43b0a785-450f-4f4e-a523-b8de3a316c0e",
   "metadata": {},
   "outputs": [],
   "source": [
    "trainIndex <- createDataPartition(data$Class,p=0.7,list=F)\n",
    "\n",
    "Train<- data[trainIndex,]\n",
    "Test <- data[-trainIndex,]\n",
    "\n",
    "XTrain <- Train[,c(1:16)]\n",
    "yTrain <- Train[,\"Class\"] \n",
    "\n",
    "XTest <- Test[,c(1:16)]\n",
    "yTest <- Test[,\"Class\"] \n",
    "\n",
    "\n",
    "preprocessParams <- preProcess(Train[,c(1:16)], method=c(\"center\",\"scale\"))\n",
    "XTrain_scaled <- predict(preprocessParams,Train[,c(1:16)])\n",
    "XTest_scaled <- predict(preprocessParams,Test[,c(1:16)])"
   ]
  },
  {
   "cell_type": "code",
   "execution_count": 21,
   "id": "330a1d8a-3814-425d-ab6c-e28b6127e1aa",
   "metadata": {},
   "outputs": [
    {
     "name": "stdout",
     "output_type": "stream",
     "text": [
      "yTrain\n",
      "BARBUNYA   BOMBAY     CALI DERMASON    HOROZ    SEKER     SIRA \n",
      "     926      366     1141     2483     1350     1419     1846 \n"
     ]
    }
   ],
   "source": [
    "# Distribution des classes dans les données de Train \n",
    "print(table(yTrain))"
   ]
  },
  {
   "cell_type": "code",
   "execution_count": 22,
   "id": "1ab016bd-43bc-40f4-ae58-79eb6f27fb04",
   "metadata": {},
   "outputs": [
    {
     "name": "stdout",
     "output_type": "stream",
     "text": [
      "yTest\n",
      "BARBUNYA   BOMBAY     CALI DERMASON    HOROZ    SEKER     SIRA \n",
      "     396      156      489     1063      578      608      790 \n"
     ]
    }
   ],
   "source": [
    "# Distribution des classes dans les données de test \n",
    "print(table(yTest))"
   ]
  },
  {
   "cell_type": "markdown",
   "id": "2254c1ac-7dc6-4006-95cd-b05ef654ae16",
   "metadata": {},
   "source": [
    "## Modèle linéaire pénalisé par une fonction de régularisation elasticnet."
   ]
  },
  {
   "cell_type": "code",
   "execution_count": 23,
   "id": "0470d933-0bc8-4026-9e79-5374f6d5ed82",
   "metadata": {},
   "outputs": [],
   "source": [
    "train_control <- trainControl(\n",
    "  method=\"cv\",\n",
    "  number=5,\n",
    "  summaryFunction = multiClassSummary,\n",
    "  classProbs = TRUE,\n",
    ")\n",
    "\n",
    "grid <- expand.grid(\n",
    "  alpha = seq(0,1,by=0.1),\n",
    "  lambda = seq(0.001,1,length=20)\n",
    ")"
   ]
  },
  {
   "cell_type": "code",
   "execution_count": 24,
   "id": "1bfb36cb-e3a7-40c1-9a0a-045da8b8051a",
   "metadata": {},
   "outputs": [],
   "source": [
    "set.seed(42)\n",
    "\n",
    "model <- train(Class~.,\n",
    "               data=Train, \n",
    "               method=\"glmnet\",\n",
    "               family = \"multinomial\",\n",
    "               preProcess = c(\"center\", \"scale\"), \n",
    "               tuneGrid = grid,\n",
    "               metric = \"Accuracy\",\n",
    "               trControl = train_control)"
   ]
  },
  {
   "cell_type": "code",
   "execution_count": 25,
   "id": "438bc264-a840-43d4-9b41-0c11f1994487",
   "metadata": {
    "collapsed": true,
    "jupyter": {
     "outputs_hidden": true
    },
    "tags": []
   },
   "outputs": [
    {
     "name": "stdout",
     "output_type": "stream",
     "text": [
      "glmnet \n",
      "\n",
      "9531 samples\n",
      "  16 predictor\n",
      "   7 classes: 'BARBUNYA', 'BOMBAY', 'CALI', 'DERMASON', 'HOROZ', 'SEKER', 'SIRA' \n",
      "\n",
      "Pre-processing: centered (16), scaled (16) \n",
      "Resampling: Cross-Validated (5 fold) \n",
      "Summary of sample sizes: 7625, 7625, 7625, 7625, 7624 \n",
      "Resampling results across tuning parameters:\n",
      "\n",
      "  alpha  lambda  logLoss    AUC        prAUC      Accuracy   Kappa      \n",
      "  0.0    0.1     0.6193735  0.9915615  0.9572566  0.8969681  0.874841656\n",
      "  0.0    0.2     0.7780111  0.9890876  0.9423500  0.8624488  0.832187676\n",
      "  0.0    0.3     0.8836668  0.9863781  0.9233467  0.8256206  0.786522720\n",
      "  0.0    0.4     0.9631868  0.9835753  0.9011538  0.7871153  0.738471500\n",
      "  0.0    0.5     1.0267566  0.9809049  0.8808592  0.7469305  0.687931866\n",
      "  0.0    0.6     1.0793881  0.9785346  0.8641587  0.7136708  0.645768750\n",
      "  0.0    0.7     1.1239165  0.9764620  0.8505093  0.6789421  0.601441077\n",
      "  0.0    0.8     1.1626494  0.9746434  0.8382058  0.6462065  0.559250719\n",
      "  0.0    0.9     1.1964902  0.9730265  0.8270660  0.6175634  0.522210367\n",
      "  0.0    1.0     1.2267154  0.9715512  0.8170101  0.5922773  0.489204521\n",
      "  0.1    0.1     0.6794018  0.9904808  0.9492267  0.8844821  0.859424056\n",
      "  0.1    0.2     0.8837615  0.9856190  0.9180538  0.8133451  0.771325178\n",
      "  0.1    0.3     1.0276850  0.9779569  0.8706223  0.7198610  0.653770162\n",
      "  0.1    0.4     1.1390798  0.9666347  0.8168048  0.6244878  0.531351105\n",
      "  0.1    0.5     1.2320220  0.9518192  0.7816258  0.5637388  0.451964769\n",
      "  0.1    0.6     1.3125094  0.9397503  0.7673524  0.5273320  0.402993752\n",
      "  0.1    0.7     1.3823541  0.9295718  0.7589027  0.4940713  0.356479070\n",
      "  0.1    0.8     1.4419475  0.9219803  0.7410121  0.4635390  0.313523879\n",
      "  0.1    0.9     1.4955572  0.9141254  0.7003841  0.4291257  0.264741763\n",
      "  0.1    1.0     1.5429536  0.9074110  0.6805221  0.3874722  0.204950391\n",
      "  0.2    0.1     0.7390264  0.9886433  0.9372428  0.8631828  0.833172525\n",
      "  0.2    0.2     0.9884424  0.9759650  0.8666589  0.7286746  0.664945357\n",
      "  0.2    0.3     1.1666756  0.9528398  0.7966172  0.5923821  0.489667879\n",
      "  0.2    0.4     1.3088002  0.9348314  0.7735185  0.5349910  0.412498035\n",
      "  0.2    0.5     1.4279127  0.9184679  0.7118243  0.4851535  0.343435980\n",
      "  0.2    0.6     1.5245218  0.9047255  0.6676569  0.4280760  0.262827878\n",
      "  0.2    0.7     1.6020072  0.9010810  0.6627518  0.3383693  0.132440291\n",
      "  0.2    0.8     1.6657966  0.8981902  0.6569702  0.2808728  0.040687392\n",
      "  0.2    0.9     1.7156171  0.8967862  0.6530559  0.2631412  0.007718886\n",
      "  0.2    1.0     1.7582342  0.8945991  0.6473850  0.2607281  0.003245024\n",
      "  0.3    0.1     0.7989181  0.9855386  0.9186703  0.8366378  0.800327018\n",
      "  0.3    0.2     1.0863057  0.9605134  0.8194638  0.6336161  0.543384030\n",
      "  0.3    0.3     1.2992271  0.9343988  0.7805879  0.5380337  0.416536158\n",
      "  0.3    0.4     1.4619042  0.9085073  0.6697644  0.4762353  0.330917424\n",
      "  0.3    0.5     1.5874579  0.9040640  0.6626618  0.3706844  0.179803560\n",
      "  0.3    0.6     1.6802244  0.9006472  0.6560749  0.2810827  0.037780269\n",
      "  0.3    0.7     1.7555008  0.8960644  0.6435227  0.2607281  0.002641997\n",
      "  0.3    0.8     1.8040617  0.8847725  0.5977558  0.2605183  0.000000000\n",
      "  0.3    0.9     1.8307269  0.8469171  0.5369442  0.2605183  0.000000000\n",
      "  0.3    1.0     1.8345519  0.5000000  0.0000000  0.2605183  0.000000000\n",
      "  0.4    0.1     0.8570430  0.9811477  0.8957642  0.8022243  0.757526143\n",
      "  0.4    0.2     1.1799487  0.9467570  0.8054971  0.5840942  0.478713813\n",
      "  0.4    0.3     1.4164130  0.9112302  0.6722826  0.4950164  0.357317570\n",
      "  0.4    0.4     1.5884343  0.9059287  0.6618090  0.3778189  0.189960071\n",
      "  0.4    0.5     1.7084440  0.9002068  0.6500300  0.2744726  0.024757170\n",
      "  0.4    0.6     1.7934653  0.8857980  0.5995543  0.2605183  0.000000000\n",
      "  0.4    0.7     1.8345519  0.5000000  0.0000000  0.2605183  0.000000000\n",
      "  0.4    0.8     1.8345519  0.5000000  0.0000000  0.2605183  0.000000000\n",
      "  0.4    0.9     1.8345519  0.5000000  0.0000000  0.2605183  0.000000000\n",
      "  0.4    1.0     1.8345519  0.5000000  0.0000000  0.2605183  0.000000000\n",
      "  0.5    0.1     0.9078898  0.9765785  0.8753042  0.7597312  0.704326853\n",
      "  0.5    0.2     1.2700920  0.9338692  0.7848200  0.5473715  0.429239286\n",
      "  0.5    0.3     1.5183879  0.9090096  0.6652465  0.4470675  0.289879851\n",
      "  0.5    0.4     1.6863223  0.9020156  0.6507786  0.2925191  0.053610488\n",
      "  0.5    0.5     1.8028842  0.8566412  0.5431550  0.2605183  0.000000000\n",
      "  0.5    0.6     1.8345519  0.5000000  0.0000000  0.2605183  0.000000000\n",
      "  0.5    0.7     1.8345519  0.5000000  0.0000000  0.2605183  0.000000000\n",
      "  0.5    0.8     1.8345519  0.5000000  0.0000000  0.2605183  0.000000000\n",
      "  0.5    0.9     1.8345519  0.5000000  0.0000000  0.2605183  0.000000000\n",
      "  0.5    1.0     1.8345519  0.5000000  0.0000000  0.2605183  0.000000000\n",
      "  0.6    0.1     0.9549898  0.9704663  0.8532743  0.7183922  0.652062548\n",
      "  0.6    0.2     1.3466311  0.9165422  0.6880905  0.5168400  0.387612860\n",
      "  0.6    0.3     1.6009813  0.9062197  0.6579283  0.3654381  0.170855772\n",
      "  0.6    0.4     1.7702428  0.8874010  0.6035135  0.2607281  0.001383538\n",
      "  0.6    0.5     1.8345519  0.5000000  0.0000000  0.2605183  0.000000000\n",
      "  0.6    0.6     1.8345519  0.5000000  0.0000000  0.2605183  0.000000000\n",
      "  0.6    0.7     1.8345519  0.5000000  0.0000000  0.2605183  0.000000000\n",
      "  0.6    0.8     1.8345519  0.5000000  0.0000000  0.2605183  0.000000000\n",
      "  0.6    0.9     1.8345519  0.5000000  0.0000000  0.2605183  0.000000000\n",
      "  0.6    1.0     1.8345519  0.5000000  0.0000000  0.2605183  0.000000000\n",
      "  0.7    0.1     0.9996699  0.9635187  0.8330282  0.6791519  0.602097991\n",
      "  0.7    0.2     1.4152427  0.9113565  0.6687227  0.4972196  0.360590208\n",
      "  0.7    0.3     1.6687521  0.9024022  0.6503177  0.3081521  0.080069098\n",
      "  0.7    0.4     1.8345519  0.5000000  0.0000000  0.2605183  0.000000000\n",
      "  0.7    0.5     1.8345519  0.5000000  0.0000000  0.2605183  0.000000000\n",
      "  0.7    0.6     1.8345519  0.5000000  0.0000000  0.2605183  0.000000000\n",
      "  0.7    0.7     1.8345519  0.5000000  0.0000000  0.2605183  0.000000000\n",
      "  0.7    0.8     1.8345519  0.5000000  0.0000000  0.2605183  0.000000000\n",
      "  0.7    0.9     1.8345519  0.5000000  0.0000000  0.2605183  0.000000000\n",
      "  0.7    1.0     1.8345519  0.5000000  0.0000000  0.2605183  0.000000000\n",
      "  0.8    0.1     1.0405295  0.9567317  0.8183058  0.6520824  0.567227471\n",
      "  0.8    0.2     1.4781878  0.9076801  0.6606099  0.4700452  0.322734158\n",
      "  0.8    0.3     1.7434263  0.8884425  0.6072212  0.2646102  0.009647908\n",
      "  0.8    0.4     1.8345519  0.5000000  0.0000000  0.2605183  0.000000000\n",
      "  0.8    0.5     1.8345519  0.5000000  0.0000000  0.2605183  0.000000000\n",
      "  0.8    0.6     1.8345519  0.5000000  0.0000000  0.2605183  0.000000000\n",
      "  0.8    0.7     1.8345519  0.5000000  0.0000000  0.2605183  0.000000000\n",
      "  0.8    0.8     1.8345519  0.5000000  0.0000000  0.2605183  0.000000000\n",
      "  0.8    0.9     1.8345519  0.5000000  0.0000000  0.2605183  0.000000000\n",
      "  0.8    1.0     1.8345519  0.5000000  0.0000000  0.2605183  0.000000000\n",
      "  0.9    0.1     1.0707112  0.9506419  0.8104849  0.6316234  0.540573073\n",
      "  0.9    0.2     1.5092161  0.9072135  0.6601128  0.4492710  0.293332085\n",
      "  0.9    0.3     1.8198345  0.8402512  0.5328433  0.2605183  0.000000000\n",
      "  0.9    0.4     1.8345519  0.5000000  0.0000000  0.2605183  0.000000000\n",
      "  0.9    0.5     1.8345519  0.5000000  0.0000000  0.2605183  0.000000000\n",
      "  0.9    0.6     1.8345519  0.5000000  0.0000000  0.2605183  0.000000000\n",
      "  0.9    0.7     1.8345519  0.5000000  0.0000000  0.2605183  0.000000000\n",
      "  0.9    0.8     1.8345519  0.5000000  0.0000000  0.2605183  0.000000000\n",
      "  0.9    0.9     1.8345519  0.5000000  0.0000000  0.2605183  0.000000000\n",
      "  0.9    1.0     1.8345519  0.5000000  0.0000000  0.2605183  0.000000000\n",
      "  1.0    0.1     1.0952615  0.9421055  0.8002162  0.6168294  0.521178674\n",
      "  1.0    0.2     1.5490733  0.9062826  0.6579242  0.4105550  0.237882567\n",
      "  1.0    0.3     1.8345519  0.5000000  0.0000000  0.2605183  0.000000000\n",
      "  1.0    0.4     1.8345519  0.5000000  0.0000000  0.2605183  0.000000000\n",
      "  1.0    0.5     1.8345519  0.5000000  0.0000000  0.2605183  0.000000000\n",
      "  1.0    0.6     1.8345519  0.5000000  0.0000000  0.2605183  0.000000000\n",
      "  1.0    0.7     1.8345519  0.5000000  0.0000000  0.2605183  0.000000000\n",
      "  1.0    0.8     1.8345519  0.5000000  0.0000000  0.2605183  0.000000000\n",
      "  1.0    0.9     1.8345519  0.5000000  0.0000000  0.2605183  0.000000000\n",
      "  1.0    1.0     1.8345519  0.5000000  0.0000000  0.2605183  0.000000000\n",
      "  Mean_F1    Mean_Sensitivity  Mean_Specificity  Mean_Pos_Pred_Value\n",
      "  0.9096789  0.9018804         0.9814204         0.9212904          \n",
      "  0.8782690  0.8659802         0.9748267         0.9035229          \n",
      "  0.8425740  0.8279348         0.9679313         0.8806806          \n",
      "  0.8006673  0.7835152         0.9608138         0.8529873          \n",
      "  0.7538952  0.7348390         0.9534083         0.8229005          \n",
      "  0.7100774  0.6904355         0.9473167         0.7957147          \n",
      "  0.6605444  0.6415557         0.9409933         0.7661965          \n",
      "  0.6093523  0.5928066         0.9350326         0.7415876          \n",
      "  0.5562303  0.5466665         0.9299016         0.7182973          \n",
      "  0.5119107  0.5103515         0.9252972         0.7003086          \n",
      "  0.8966727  0.8865275         0.9790885         0.9134967          \n",
      "  0.8287547  0.8135436         0.9658353         0.8690049          \n",
      "  0.7206432  0.7086406         0.9486764         0.8039202          \n",
      "  0.5837412  0.5897633         0.9313198         0.7414657          \n",
      "  0.4933508  0.5143522         0.9201487         0.6742278          \n",
      "        NaN  0.4576512         0.9132564               NaN          \n",
      "        NaN  0.3918231         0.9067350               NaN          \n",
      "        NaN  0.3452326         0.9007183               NaN          \n",
      "        NaN  0.3094313         0.8938496               NaN          \n",
      "        NaN  0.2683027         0.8855341               NaN          \n",
      "  0.8765691  0.8641751         0.9751514         0.8999879          \n",
      "  0.7280689  0.7156979         0.9504672         0.8124779          \n",
      "  0.5261387  0.5541468         0.9255588         0.6924092          \n",
      "        NaN  0.4609518         0.9145620               NaN          \n",
      "        NaN  0.3648747         0.9049597               NaN          \n",
      "        NaN  0.3076812         0.8935617               NaN          \n",
      "        NaN  0.2188721         0.8755884               NaN          \n",
      "        NaN  0.1624027         0.8629580               NaN          \n",
      "        NaN  0.1453729         0.8583238               NaN          \n",
      "        NaN  0.1430584         0.8577041               NaN          \n",
      "  0.8489968  0.8337162         0.9703174         0.8812126          \n",
      "  0.5853925  0.6037577         0.9332658         0.7528471          \n",
      "        NaN  0.4560208         0.9152237               NaN          \n",
      "        NaN  0.3551785         0.9031756               NaN          \n",
      "        NaN  0.2503870         0.8820539               NaN          \n",
      "        NaN  0.1625883         0.8623991               NaN          \n",
      "        NaN  0.1430584         0.8575967               NaN          \n",
      "        NaN  0.1428571         0.8571429               NaN          \n",
      "        NaN  0.1428571         0.8571429               NaN          \n",
      "        NaN  0.1428571         0.8571429               NaN          \n",
      "  0.8115923  0.7942352         0.9640982         0.8570539          \n",
      "  0.5131213  0.5400008         0.9240875         0.6769086          \n",
      "        NaN  0.3733195         0.9069837               NaN          \n",
      "        NaN  0.2571068         0.8834353               NaN          \n",
      "        NaN  0.1562463         0.8605337               NaN          \n",
      "        NaN  0.1428571         0.8571429               NaN          \n",
      "        NaN  0.1428571         0.8571429               NaN          \n",
      "        NaN  0.1428571         0.8571429               NaN          \n",
      "        NaN  0.1428571         0.8571429               NaN          \n",
      "        NaN  0.1428571         0.8571429               NaN          \n",
      "  0.7613712  0.7454664         0.9564492         0.8290998          \n",
      "        NaN  0.4639796         0.9171290               NaN          \n",
      "        NaN  0.3258489         0.8973800               NaN          \n",
      "        NaN  0.1735619         0.8644016               NaN          \n",
      "        NaN  0.1428571         0.8571429               NaN          \n",
      "        NaN  0.1428571         0.8571429               NaN          \n",
      "        NaN  0.1428571         0.8571429               NaN          \n",
      "        NaN  0.1428571         0.8571429               NaN          \n",
      "        NaN  0.1428571         0.8571429               NaN          \n",
      "        NaN  0.1428571         0.8571429               NaN          \n",
      "  0.7062382  0.6974584         0.9489620         0.8048094          \n",
      "        NaN  0.3957416         0.9113895               NaN          \n",
      "        NaN  0.2442129         0.8807529               NaN          \n",
      "        NaN  0.1430584         0.8573729               NaN          \n",
      "        NaN  0.1428571         0.8571429               NaN          \n",
      "        NaN  0.1428571         0.8571429               NaN          \n",
      "        NaN  0.1428571         0.8571429               NaN          \n",
      "        NaN  0.1428571         0.8571429               NaN          \n",
      "        NaN  0.1428571         0.8571429               NaN          \n",
      "        NaN  0.1428571         0.8571429               NaN          \n",
      "  0.6443901  0.6500831         0.9419093         0.7762084          \n",
      "        NaN  0.3749485         0.9074955               NaN          \n",
      "        NaN  0.1885607         0.8680833               NaN          \n",
      "        NaN  0.1428571         0.8571429               NaN          \n",
      "        NaN  0.1428571         0.8571429               NaN          \n",
      "        NaN  0.1428571         0.8571429               NaN          \n",
      "        NaN  0.1428571         0.8571429               NaN          \n",
      "        NaN  0.1428571         0.8571429               NaN          \n",
      "        NaN  0.1428571         0.8571429               NaN          \n",
      "        NaN  0.1428571         0.8571429               NaN          \n",
      "  0.5928380  0.6135810         0.9370194         0.7487155          \n",
      "        NaN  0.3479999         0.9020961               NaN          \n",
      "        NaN  0.1467828         0.8585596               NaN          \n",
      "        NaN  0.1428571         0.8571429               NaN          \n",
      "        NaN  0.1428571         0.8571429               NaN          \n",
      "        NaN  0.1428571         0.8571429               NaN          \n",
      "        NaN  0.1428571         0.8571429               NaN          \n",
      "        NaN  0.1428571         0.8571429               NaN          \n",
      "        NaN  0.1428571         0.8571429               NaN          \n",
      "        NaN  0.1428571         0.8571429               NaN          \n",
      "  0.5531981  0.5839545         0.9332611         0.7250698          \n",
      "        NaN  0.3274199         0.8979206               NaN          \n",
      "        NaN  0.1428571         0.8571429               NaN          \n",
      "        NaN  0.1428571         0.8571429               NaN          \n",
      "        NaN  0.1428571         0.8571429               NaN          \n",
      "        NaN  0.1428571         0.8571429               NaN          \n",
      "        NaN  0.1428571         0.8571429               NaN          \n",
      "        NaN  0.1428571         0.8571429               NaN          \n",
      "        NaN  0.1428571         0.8571429               NaN          \n",
      "        NaN  0.1428571         0.8571429               NaN          \n",
      "        NaN  0.5568062         0.9305472               NaN          \n",
      "        NaN  0.2888662         0.8901331               NaN          \n",
      "        NaN  0.1428571         0.8571429               NaN          \n",
      "        NaN  0.1428571         0.8571429               NaN          \n",
      "        NaN  0.1428571         0.8571429               NaN          \n",
      "        NaN  0.1428571         0.8571429               NaN          \n",
      "        NaN  0.1428571         0.8571429               NaN          \n",
      "        NaN  0.1428571         0.8571429               NaN          \n",
      "        NaN  0.1428571         0.8571429               NaN          \n",
      "        NaN  0.1428571         0.8571429               NaN          \n",
      "  Mean_Neg_Pred_Value  Mean_Precision  Mean_Recall  Mean_Detection_Rate\n",
      "  0.9824481            0.9212904       0.9018804    0.12813831         \n",
      "  0.9772716            0.9035229       0.8659802    0.12320697         \n",
      "  0.9716640            0.8806806       0.8279348    0.11794580         \n",
      "  0.9658562            0.8529873       0.7835152    0.11244505         \n",
      "  0.9598593            0.8229005       0.7348390    0.10670435         \n",
      "  0.9549392            0.7957147       0.6904355    0.10195298         \n",
      "  0.9497693            0.7661965       0.6415557    0.09699173         \n",
      "  0.9448277            0.7415876       0.5928066    0.09231521         \n",
      "  0.9405115            0.7182973       0.5466665    0.08822335         \n",
      "  0.9366632            0.7003086       0.5103515    0.08461104         \n",
      "  0.9806290            0.9134967       0.8865275    0.12635458         \n",
      "  0.9695753            0.8690049       0.8135436    0.11619216         \n",
      "  0.9552321            0.8039202       0.7086406    0.10283729         \n",
      "  0.9404076            0.7414657       0.5897633    0.08921254         \n",
      "  0.9310801            0.6742278       0.5143522    0.08053411         \n",
      "  0.9252149                  NaN       0.4576512    0.07533314         \n",
      "  0.9193422                  NaN       0.3918231    0.07058161         \n",
      "  0.9142897                  NaN       0.3452326    0.06621986         \n",
      "  0.9089432                  NaN       0.3094313    0.06130367         \n",
      "  0.9031318                  NaN       0.2683027    0.05535318         \n",
      "  0.9772626            0.8999879       0.8641751    0.12331183         \n",
      "  0.9562526            0.8124779       0.7156979    0.10409636         \n",
      "  0.9351666            0.6924092       0.5541468    0.08462602         \n",
      "  0.9259387                  NaN       0.4609518    0.07642729         \n",
      "  0.9175013                  NaN       0.3648747    0.06930764         \n",
      "  0.9087902                  NaN       0.3076812    0.06115371         \n",
      "  0.8972521                  NaN       0.2188721    0.04833848         \n",
      "  0.8932751                  NaN       0.1624027    0.04012468         \n",
      "  0.8934745                  NaN       0.1453729    0.03759160         \n",
      "  0.8934549                  NaN       0.1430584    0.03724686         \n",
      "  0.9730313            0.8812126       0.8337162    0.11951969         \n",
      "  0.9413674            0.7528471       0.6037577    0.09051658         \n",
      "  0.9263970                  NaN       0.4560208    0.07686196         \n",
      "  0.9160467                  NaN       0.3551785    0.06803361         \n",
      "  0.9013110                  NaN       0.2503870    0.05295492         \n",
      "  0.8945596                  NaN       0.1625883    0.04015467         \n",
      "  0.8936517                  NaN       0.1430584    0.03724686         \n",
      "        NaN                  NaN       0.1428571    0.03721690         \n",
      "        NaN                  NaN       0.1428571    0.03721690         \n",
      "        NaN                  NaN       0.1428571    0.03721690         \n",
      "  0.9675117            0.8570539       0.7942352    0.11460347         \n",
      "  0.9337355            0.6769086       0.5400008    0.08344202         \n",
      "  0.9191093                  NaN       0.3733195    0.07071663         \n",
      "  0.9024982                  NaN       0.2571068    0.05397414         \n",
      "  0.8948486                  NaN       0.1562463    0.03921038         \n",
      "        NaN                  NaN       0.1428571    0.03721690         \n",
      "        NaN                  NaN       0.1428571    0.03721690         \n",
      "        NaN                  NaN       0.1428571    0.03721690         \n",
      "        NaN                  NaN       0.1428571    0.03721690         \n",
      "        NaN                  NaN       0.1428571    0.03721690         \n",
      "  0.9608082            0.8290998       0.7454664    0.10853303         \n",
      "  0.9277078                  NaN       0.4639796    0.07819592         \n",
      "  0.9116771                  NaN       0.3258489    0.06386679         \n",
      "  0.8964421                  NaN       0.1735619    0.04178845         \n",
      "        NaN                  NaN       0.1428571    0.03721690         \n",
      "        NaN                  NaN       0.1428571    0.03721690         \n",
      "        NaN                  NaN       0.1428571    0.03721690         \n",
      "        NaN                  NaN       0.1428571    0.03721690         \n",
      "        NaN                  NaN       0.1428571    0.03721690         \n",
      "        NaN                  NaN       0.1428571    0.03721690         \n",
      "  0.9543131            0.8048094       0.6974584    0.10262746         \n",
      "  0.9227150                  NaN       0.3957416    0.07383429         \n",
      "  0.9015443                  NaN       0.2442129    0.05220544         \n",
      "  0.8940525                  NaN       0.1430584    0.03724686         \n",
      "        NaN                  NaN       0.1428571    0.03721690         \n",
      "        NaN                  NaN       0.1428571    0.03721690         \n",
      "        NaN                  NaN       0.1428571    0.03721690         \n",
      "        NaN                  NaN       0.1428571    0.03721690         \n",
      "        NaN                  NaN       0.1428571    0.03721690         \n",
      "        NaN                  NaN       0.1428571    0.03721690         \n",
      "  0.9482266            0.7762084       0.6500831    0.09702169         \n",
      "  0.9194465                  NaN       0.3749485    0.07103137         \n",
      "  0.8971538                  NaN       0.1885607    0.04402172         \n",
      "        NaN                  NaN       0.1428571    0.03721690         \n",
      "        NaN                  NaN       0.1428571    0.03721690         \n",
      "        NaN                  NaN       0.1428571    0.03721690         \n",
      "        NaN                  NaN       0.1428571    0.03721690         \n",
      "        NaN                  NaN       0.1428571    0.03721690         \n",
      "        NaN                  NaN       0.1428571    0.03721690         \n",
      "        NaN                  NaN       0.1428571    0.03721690         \n",
      "  0.9439836            0.7487155       0.6135810    0.09315463         \n",
      "  0.9151508                  NaN       0.3479999    0.06714932         \n",
      "  0.8937416                  NaN       0.1467828    0.03780146         \n",
      "        NaN                  NaN       0.1428571    0.03721690         \n",
      "        NaN                  NaN       0.1428571    0.03721690         \n",
      "        NaN                  NaN       0.1428571    0.03721690         \n",
      "        NaN                  NaN       0.1428571    0.03721690         \n",
      "        NaN                  NaN       0.1428571    0.03721690         \n",
      "        NaN                  NaN       0.1428571    0.03721690         \n",
      "        NaN                  NaN       0.1428571    0.03721690         \n",
      "  0.9406732            0.7250698       0.5839545    0.09023191         \n",
      "  0.9120031                  NaN       0.3274199    0.06418157         \n",
      "        NaN                  NaN       0.1428571    0.03721690         \n",
      "        NaN                  NaN       0.1428571    0.03721690         \n",
      "        NaN                  NaN       0.1428571    0.03721690         \n",
      "        NaN                  NaN       0.1428571    0.03721690         \n",
      "        NaN                  NaN       0.1428571    0.03721690         \n",
      "        NaN                  NaN       0.1428571    0.03721690         \n",
      "        NaN                  NaN       0.1428571    0.03721690         \n",
      "        NaN                  NaN       0.1428571    0.03721690         \n",
      "  0.9382296                  NaN       0.5568062    0.08811849         \n",
      "  0.9066270                  NaN       0.2888662    0.05865071         \n",
      "        NaN                  NaN       0.1428571    0.03721690         \n",
      "        NaN                  NaN       0.1428571    0.03721690         \n",
      "        NaN                  NaN       0.1428571    0.03721690         \n",
      "        NaN                  NaN       0.1428571    0.03721690         \n",
      "        NaN                  NaN       0.1428571    0.03721690         \n",
      "        NaN                  NaN       0.1428571    0.03721690         \n",
      "        NaN                  NaN       0.1428571    0.03721690         \n",
      "        NaN                  NaN       0.1428571    0.03721690         \n",
      "  Mean_Balanced_Accuracy\n",
      "  0.9416504             \n",
      "  0.9204034             \n",
      "  0.8979330             \n",
      "  0.8721645             \n",
      "  0.8441237             \n",
      "  0.8188761             \n",
      "  0.7912745             \n",
      "  0.7639196             \n",
      "  0.7382840             \n",
      "  0.7178244             \n",
      "  0.9328080             \n",
      "  0.8896894             \n",
      "  0.8286585             \n",
      "  0.7605415             \n",
      "  0.7172505             \n",
      "  0.6854538             \n",
      "  0.6492790             \n",
      "  0.6229755             \n",
      "  0.6016405             \n",
      "  0.5769184             \n",
      "  0.9196633             \n",
      "  0.8330825             \n",
      "  0.7398528             \n",
      "  0.6877569             \n",
      "  0.6349172             \n",
      "  0.6006214             \n",
      "  0.5472302             \n",
      "  0.5126804             \n",
      "  0.5018484             \n",
      "  0.5003812             \n",
      "  0.9020168             \n",
      "  0.7685117             \n",
      "  0.6856222             \n",
      "  0.6291771             \n",
      "  0.5662204             \n",
      "  0.5124937             \n",
      "  0.5003275             \n",
      "  0.5000000             \n",
      "  0.5000000             \n",
      "  0.5000000             \n",
      "  0.8791667             \n",
      "  0.7320442             \n",
      "  0.6401516             \n",
      "  0.5702711             \n",
      "  0.5083900             \n",
      "  0.5000000             \n",
      "  0.5000000             \n",
      "  0.5000000             \n",
      "  0.5000000             \n",
      "  0.5000000             \n",
      "  0.8509578             \n",
      "  0.6905543             \n",
      "  0.6116145             \n",
      "  0.5189817             \n",
      "  0.5000000             \n",
      "  0.5000000             \n",
      "  0.5000000             \n",
      "  0.5000000             \n",
      "  0.5000000             \n",
      "  0.5000000             \n",
      "  0.8232102             \n",
      "  0.6535656             \n",
      "  0.5624829             \n",
      "  0.5002156             \n",
      "  0.5000000             \n",
      "  0.5000000             \n",
      "  0.5000000             \n",
      "  0.5000000             \n",
      "  0.5000000             \n",
      "  0.5000000             \n",
      "  0.7959962             \n",
      "  0.6412220             \n",
      "  0.5283220             \n",
      "  0.5000000             \n",
      "  0.5000000             \n",
      "  0.5000000             \n",
      "  0.5000000             \n",
      "  0.5000000             \n",
      "  0.5000000             \n",
      "  0.5000000             \n",
      "  0.7753002             \n",
      "  0.6250480             \n",
      "  0.5026712             \n",
      "  0.5000000             \n",
      "  0.5000000             \n",
      "  0.5000000             \n",
      "  0.5000000             \n",
      "  0.5000000             \n",
      "  0.5000000             \n",
      "  0.5000000             \n",
      "  0.7586078             \n",
      "  0.6126703             \n",
      "  0.5000000             \n",
      "  0.5000000             \n",
      "  0.5000000             \n",
      "  0.5000000             \n",
      "  0.5000000             \n",
      "  0.5000000             \n",
      "  0.5000000             \n",
      "  0.5000000             \n",
      "  0.7436767             \n",
      "  0.5894997             \n",
      "  0.5000000             \n",
      "  0.5000000             \n",
      "  0.5000000             \n",
      "  0.5000000             \n",
      "  0.5000000             \n",
      "  0.5000000             \n",
      "  0.5000000             \n",
      "  0.5000000             \n",
      "\n",
      "Accuracy was used to select the optimal model using the largest value.\n",
      "The final values used for the model were alpha = 0 and lambda = 0.1.\n"
     ]
    }
   ],
   "source": [
    "print(model)"
   ]
  },
  {
   "cell_type": "code",
   "execution_count": 26,
   "id": "a9695ad4-ec04-43c8-ae21-250f59fa1f1f",
   "metadata": {},
   "outputs": [
    {
     "data": {
      "text/html": [
       "0.1"
      ],
      "text/latex": [
       "0.1"
      ],
      "text/markdown": [
       "0.1"
      ],
      "text/plain": [
       "[1] 0.1"
      ]
     },
     "metadata": {},
     "output_type": "display_data"
    }
   ],
   "source": [
    "model$bestTune$lambda"
   ]
  },
  {
   "cell_type": "code",
   "execution_count": 27,
   "id": "db4ef4c6-59c8-4381-bdb0-97bd1ee8e8b2",
   "metadata": {},
   "outputs": [
    {
     "data": {
      "text/html": [
       "0"
      ],
      "text/latex": [
       "0"
      ],
      "text/markdown": [
       "0"
      ],
      "text/plain": [
       "[1] 0"
      ]
     },
     "metadata": {},
     "output_type": "display_data"
    }
   ],
   "source": [
    "model$bestTune$alpha"
   ]
  },
  {
   "cell_type": "code",
   "execution_count": 28,
   "id": "d407f900-7116-4264-a9b9-cd49a25649be",
   "metadata": {},
   "outputs": [
    {
     "data": {
      "image/png": "[encoded data removed]",
      "text/plain": [
       "plot without title"
      ]
     },
     "metadata": {
      "image/png": {
       "height": 420,
       "width": 420
      }
     },
     "output_type": "display_data"
    },
    {
     "data": {
      "image/png": "[encoded data removed]",
      "text/plain": [
       "plot without title"
      ]
     },
     "metadata": {
      "image/png": {
       "height": 420,
       "width": 420
      }
     },
     "output_type": "display_data"
    },
    {
     "data": {
      "image/png": "[encoded data removed]",
      "text/plain": [
       "plot without title"
      ]
     },
     "metadata": {
      "image/png": {
       "height": 420,
       "width": 420
      }
     },
     "output_type": "display_data"
    },
    {
     "data": {
      "image/png": "[encoded data removed]",
      "text/plain": [
       "plot without title"
      ]
     },
     "metadata": {
      "image/png": {
       "height": 420,
       "width": 420
      }
     },
     "output_type": "display_data"
    },
    {
     "data": {
      "image/png": "[encoded data removed]",
      "text/plain": [
       "plot without title"
      ]
     },
     "metadata": {
      "image/png": {
       "height": 420,
       "width": 420
      }
     },
     "output_type": "display_data"
    },
    {
     "data": {
      "image/png": "[encoded data removed]",
      "text/plain": [
       "plot without title"
      ]
     },
     "metadata": {
      "image/png": {
       "height": 420,
       "width": 420
      }
     },
     "output_type": "display_data"
    },
    {
     "data": {
      "image/png": "[encoded data removed]",
      "text/plain": [
       "plot without title"
      ]
     },
     "metadata": {
      "image/png": {
       "height": 420,
       "width": 420
      }
     },
     "output_type": "display_data"
    }
   ],
   "source": [
    "plot(model$finalModel)"
   ]
  },
  {
   "cell_type": "code",
   "execution_count": 29,
   "id": "1a915931-89fc-4ced-a087-348f9803f076",
   "metadata": {},
   "outputs": [],
   "source": [
    "predicted.class <- predict(model,newdata = XTest)"
   ]
  },
  {
   "cell_type": "code",
   "execution_count": 30,
   "id": "51d8c56b-a256-4a81-83a5-a03529643751",
   "metadata": {},
   "outputs": [
    {
     "data": {
      "text/html": [
       "0.892892156862745"
      ],
      "text/latex": [
       "0.892892156862745"
      ],
      "text/markdown": [
       "0.892892156862745"
      ],
      "text/plain": [
       "[1] 0.8928922"
      ]
     },
     "metadata": {},
     "output_type": "display_data"
    }
   ],
   "source": [
    "mean(predicted.class == Test$Class)"
   ]
  },
  {
   "cell_type": "markdown",
   "id": "a2e5596a-50fe-4f01-b8b1-9179ff9b88d1",
   "metadata": {},
   "source": [
    "### Matrice de confusion"
   ]
  },
  {
   "cell_type": "code",
   "execution_count": 31,
   "id": "6e57fa7a-9aec-4bf3-9be1-fc2246ba15bb",
   "metadata": {},
   "outputs": [
    {
     "data": {
      "text/plain": [
       "Confusion Matrix and Statistics\n",
       "\n",
       "          Reference\n",
       "Prediction BARBUNYA BOMBAY CALI DERMASON HOROZ SEKER SIRA\n",
       "  BARBUNYA      323      1    3        0     0     6    1\n",
       "  BOMBAY          0    151    0        0     0     0    0\n",
       "  CALI           23      4  448        0     7     0    0\n",
       "  DERMASON        1      0    0     1031    10    22  176\n",
       "  HOROZ           6      0   22        1   551     0   20\n",
       "  SEKER          15      0    1       10     0   557   11\n",
       "  SIRA           28      0   15       21    10    23  582\n",
       "\n",
       "Overall Statistics\n",
       "                                               \n",
       "               Accuracy : 0.8929               \n",
       "                 95% CI : (0.883, 0.9022)      \n",
       "    No Information Rate : 0.2605               \n",
       "    P-Value [Acc > NIR] : < 0.00000000000000022\n",
       "                                               \n",
       "                  Kappa : 0.8698               \n",
       "                                               \n",
       " Mcnemar's Test P-Value : NA                   \n",
       "\n",
       "Statistics by Class:\n",
       "\n",
       "                     Class: BARBUNYA Class: BOMBAY Class: CALI Class: DERMASON\n",
       "Sensitivity                  0.81566       0.96795      0.9162          0.9699\n",
       "Specificity                  0.99701       1.00000      0.9905          0.9307\n",
       "Pos Pred Value               0.96707       1.00000      0.9295          0.8315\n",
       "Neg Pred Value               0.98051       0.99873      0.9886          0.9887\n",
       "Prevalence                   0.09706       0.03824      0.1199          0.2605\n",
       "Detection Rate               0.07917       0.03701      0.1098          0.2527\n",
       "Detection Prevalence         0.08186       0.03701      0.1181          0.3039\n",
       "Balanced Accuracy            0.90634       0.98397      0.9533          0.9503\n",
       "                     Class: HOROZ Class: SEKER Class: SIRA\n",
       "Sensitivity                0.9533       0.9161      0.7367\n",
       "Specificity                0.9860       0.9893      0.9705\n",
       "Pos Pred Value             0.9183       0.9377      0.8571\n",
       "Neg Pred Value             0.9922       0.9854      0.9388\n",
       "Prevalence                 0.1417       0.1490      0.1936\n",
       "Detection Rate             0.1350       0.1365      0.1426\n",
       "Detection Prevalence       0.1471       0.1456      0.1664\n",
       "Balanced Accuracy          0.9696       0.9527      0.8536"
      ]
     },
     "metadata": {},
     "output_type": "display_data"
    }
   ],
   "source": [
    "confusionMatrix(as.factor(predicted.class), Test$Class, positive = NULL, dnn = c(\"Prediction\", \"Reference\"))"
   ]
  },
  {
   "cell_type": "markdown",
   "id": "3fa5c77c-e04b-45b9-8495-8d44f860a036",
   "metadata": {},
   "source": [
    "## SVM"
   ]
  },
  {
   "cell_type": "code",
   "execution_count": 38,
   "id": "3720b398-2b00-4c8b-9eba-b75c739bd050",
   "metadata": {},
   "outputs": [],
   "source": [
    "library(e1071)\n",
    "library(caTools)\n",
    "library(MLmetrics)"
   ]
  },
  {
   "cell_type": "code",
   "execution_count": null,
   "id": "6f6da8e6-7f5e-49e3-b892-ac70cd20b7de",
   "metadata": {},
   "outputs": [],
   "source": [
    "## Ne pas exécuter\n",
    "## Le meilleur modèle est C = 7 et kernel = radial\n",
    "\n",
    "tuned = tune(svm,train.x=as.matrix(XTrain_scaled),\n",
    "train.y=yTrain, data = data,\n",
    "scale=F, type = \"C-classification\",\n",
    "ranges = list(cost=seq(0.1, 10, 0.1),kernel= c(\"linear\",\"radial\",\"sigmoid\",\"polynomial\")),\n",
    "tunecontrol=tune.control(cross=10))\n",
    "tuned$performances"
   ]
  },
  {
   "cell_type": "code",
   "execution_count": 41,
   "id": "865e1018-ecce-4182-b6e1-f2b284695ae1",
   "metadata": {},
   "outputs": [],
   "source": [
    "svm = svm(as.matrix(XTrain), yTrain, scale=T, type= \"C-classification\",kernel='radial',cost = 7)"
   ]
  },
  {
   "cell_type": "code",
   "execution_count": 44,
   "id": "ae203141-bbfd-41bb-b688-904e6bfd28d6",
   "metadata": {},
   "outputs": [
    {
     "name": "stdout",
     "output_type": "stream",
     "text": [
      "          yTest\n",
      "pred       BARBUNYA BOMBAY CALI DERMASON HOROZ SEKER SIRA\n",
      "  BARBUNYA      366      0   14        0     0     3    0\n",
      "  BOMBAY          0    156    0        0     0     0    0\n",
      "  CALI           18      0  458        0     8     0    2\n",
      "  DERMASON        0      0    0      985     7    14   84\n",
      "  HOROZ           0      0   13        1   548     0    7\n",
      "  SEKER           4      0    1       16     0   574    4\n",
      "  SIRA            8      0    3       61    15    17  693\n",
      "[1] 0\n",
      "[1] 0.9396662\n"
     ]
    }
   ],
   "source": [
    "pred = predict(svm, newdata = as.matrix(XTest))\n",
    "#Matrice de confusion\n",
    "cm = table(pred, yTest)\n",
    "print(cm)\n",
    "#Taux d'erreur\n",
    "err = ((cm[1,2] + cm[2,1])/sum(cm))*100\n",
    "print(err)\n",
    "f1=F1_Score(yTest, pred, positive = NULL)\n",
    "print(f1)\n",
    "\n"
   ]
  },
  {
   "cell_type": "code",
   "execution_count": null,
   "id": "7e27d510-8c0b-4ae3-80fa-06ea0e06e96d",
   "metadata": {},
   "outputs": [],
   "source": [
    "pred=as.numeric(pred)\n",
    "colAUC(pred, yTest, plotROC = TRUE)\n",
    "abline(0,1, col = \"blue\")"
   ]
  },
  {
   "cell_type": "code",
   "execution_count": null,
   "id": "6e91bc39-791a-4a4f-b59b-9b451dba7244",
   "metadata": {},
   "outputs": [],
   "source": [
    "## Faire moyenne ? "
   ]
  },
  {
   "cell_type": "markdown",
   "id": "72840cea-cefd-437d-8f84-17c8d7ab10c1",
   "metadata": {},
   "source": [
    "# Neurones : \n",
    "## Packages : "
   ]
  },
  {
   "cell_type": "code",
   "execution_count": 45,
   "id": "faefc693-2c59-4a0b-9c17-6d14322ff488",
   "metadata": {},
   "outputs": [],
   "source": [
    "library(neuralnet)\n",
    "library(MLmetrics)\n",
    "library(dplyr)\n",
    "library(pROC)\n",
    "library(caret)"
   ]
  },
  {
   "cell_type": "code",
   "execution_count": 54,
   "id": "b01e7a33-0578-4197-bf4c-6c7d0ca5b580",
   "metadata": {},
   "outputs": [],
   "source": [
    "y <- as.factor(make.names(Train$Class))"
   ]
  },
  {
   "cell_type": "code",
   "execution_count": 53,
   "id": "8809f0b3-9a55-464b-a403-d80462b2dcf7",
   "metadata": {
    "collapsed": true,
    "jupyter": {
     "outputs_hidden": true
    },
    "tags": []
   },
   "outputs": [
    {
     "data": {
      "text/plain": [
       "      Area           Perimeter       MajorAxisLength   MinorAxisLength  \n",
       " Min.   :-1.1140   Min.   :-1.5429   Min.   :-1.5941   Min.   :-1.6184  \n",
       " 1st Qu.:-0.5700   1st Qu.:-0.7089   1st Qu.:-0.7846   1st Qu.:-0.5877  \n",
       " Median :-0.2858   Median :-0.2831   Median :-0.2720   Median :-0.2178  \n",
       " Mean   : 0.0000   Mean   : 0.0000   Mean   : 0.0000   Mean   : 0.0000  \n",
       " 3rd Qu.: 0.2813   3rd Qu.: 0.5625   3rd Qu.: 0.6582   3rd Qu.: 0.3230  \n",
       " Max.   : 6.8764   Max.   : 5.2761   Max.   : 4.8869   Max.   : 5.7363  \n",
       "                                                                        \n",
       "  AspectRation      Eccentricity       ConvexArea      EquivDiameter    \n",
       " Min.   :-2.2686   Min.   :-5.7736   Min.   :-1.1126   Min.   :-1.5526  \n",
       " 1st Qu.:-0.6090   1st Qu.:-0.3747   1st Qu.:-0.5731   1st Qu.:-0.6413  \n",
       " Median :-0.1298   Median : 0.1473   Median :-0.2876   Median :-0.2463  \n",
       " Mean   : 0.0000   Mean   : 0.0000   Mean   : 0.0000   Mean   : 0.0000  \n",
       " 3rd Qu.: 0.5065   3rd Qu.: 0.6485   3rd Qu.: 0.2843   3rd Qu.: 0.4442  \n",
       " Max.   : 3.2768   Max.   : 1.7082   Max.   : 7.0395   Max.   : 5.3441  \n",
       "                                                                        \n",
       "     Extent           Solidity         roundness        Compactness      \n",
       " Min.   :-3.9690   Min.   :-9.3333   Min.   :-5.3412   Min.   :-2.50808  \n",
       " 1st Qu.:-0.6366   1st Qu.:-0.3009   1st Qu.:-0.6988   1st Qu.:-0.60844  \n",
       " Median : 0.2022   Median : 0.2450   Median : 0.1600   Median : 0.02242  \n",
       " Mean   : 0.0000   Mean   : 0.0000   Mean   : 0.0000   Mean   : 0.00000  \n",
       " 3rd Qu.: 0.7579   3rd Qu.: 0.6164   3rd Qu.: 0.7342   3rd Qu.: 0.55129  \n",
       " Max.   : 2.2253   Max.   : 1.5466   Max.   : 1.9781   Max.   : 3.04007  \n",
       "                                                                         \n",
       "  ShapeFactor1       ShapeFactor2       ShapeFactor3       ShapeFactor4     \n",
       " Min.   :-3.35799   Min.   :-1.93240   Min.   :-2.29704   Min.   :-10.0971  \n",
       " 1st Qu.:-0.58316   1st Qu.:-0.94455   1st Qu.:-0.63071   1st Qu.: -0.3141  \n",
       " Median : 0.07112   Median :-0.03472   Median :-0.01603   Median :  0.3013  \n",
       " Mean   : 0.00000   Mean   : 0.00000   Mean   : 0.00000   Mean   :  0.0000  \n",
       " 3rd Qu.: 0.62853   3rd Qu.: 0.76200   3rd Qu.: 0.52284   3rd Qu.:  0.6482  \n",
       " Max.   : 2.96082   Max.   : 3.26956   Max.   : 3.34703   Max.   :  1.0684  \n",
       "                                                                            \n",
       "        y       \n",
       " BARBUNYA: 926  \n",
       " BOMBAY  : 366  \n",
       " CALI    :1141  \n",
       " DERMASON:2483  \n",
       " HOROZ   :1350  \n",
       " SEKER   :1419  \n",
       " SIRA    :1846  "
      ]
     },
     "metadata": {},
     "output_type": "display_data"
    },
    {
     "name": "stdout",
     "output_type": "stream",
     "text": [
      "'data.frame':\t9531 obs. of  17 variables:\n",
      " $ Area           : num  -0.842 -0.83 -0.782 -0.778 -0.771 ...\n",
      " $ Perimeter      : num  -1.144 -1.015 -1.098 -1.029 -0.865 ...\n",
      " $ MajorAxisLength: num  -1.31 -1.4 -1.38 -1.26 -1.27 ...\n",
      " $ MinorAxisLength: num  -0.633 -0.436 -0.268 -0.463 -0.407 ...\n",
      " $ AspectRation   : num  -1.57 -1.97 -2.12 -1.67 -1.77 ...\n",
      " $ Eccentricity   : num  -2.18 -3.68 -4.53 -2.5 -2.84 ...\n",
      " $ ConvexArea     : num  -0.843 -0.827 -0.785 -0.779 -0.767 ...\n",
      " $ EquivDiameter  : num  -1.064 -1.045 -0.967 -0.959 -0.949 ...\n",
      " $ Extent         : num  0.294 0.704 0.482 0.535 0.263 ...\n",
      " $ Solidity       : num  0.364 -0.464 0.8 0.504 -0.658 ...\n",
      " $ roundness      : num  1.427 0.23 1.88 1.188 -0.343 ...\n",
      " $ Compactness    : num  1.84 2.5 2.77 2.01 2.17 ...\n",
      " $ ShapeFactor1   : num  0.684 0.37 0.121 0.407 0.323 ...\n",
      " $ ShapeFactor2   : num  2.4 3.1 3.27 2.41 2.56 ...\n",
      " $ ShapeFactor3   : num  1.93 2.69 3.01 2.12 2.3 ...\n",
      " $ ShapeFactor4   : num  0.836 0.769 0.938 0.954 0.911 ...\n",
      " $ y              : Factor w/ 7 levels \"BARBUNYA\",\"BOMBAY\",..: 6 6 6 6 6 6 6 6 6 6 ...\n"
     ]
    }
   ],
   "source": [
    "XTrain_scaled$y <- y\n",
    "summary(XTrain_scaled)\n",
    "str(XTrain_scaled)"
   ]
  },
  {
   "cell_type": "code",
   "execution_count": null,
   "id": "66555a67-5e1e-4bc8-a115-d4c13046c046",
   "metadata": {
    "tags": []
   },
   "outputs": [
    {
     "name": "stdout",
     "output_type": "stream",
     "text": [
      "# weights:  247\n",
      "initial  value 15661.757266 \n",
      "iter  10 value 3941.005222\n",
      "iter  20 value 2713.693927\n",
      "iter  30 value 2577.857610\n",
      "iter  40 value 2413.632015\n",
      "iter  50 value 2256.543043\n",
      "iter  60 value 2101.627458\n",
      "iter  70 value 2013.396984\n",
      "iter  80 value 1973.846125\n",
      "iter  90 value 1947.964076\n",
      "iter 100 value 1928.861118\n",
      "iter 110 value 1911.118672\n",
      "iter 120 value 1896.720414\n",
      "iter 130 value 1888.449002\n",
      "iter 140 value 1881.172743\n",
      "iter 150 value 1875.443322\n",
      "iter 160 value 1873.012841\n",
      "iter 170 value 1872.000659\n",
      "iter 180 value 1871.348283\n",
      "iter 190 value 1870.232655\n",
      "iter 200 value 1868.607408\n",
      "iter 210 value 1867.171758\n",
      "iter 220 value 1866.021063\n",
      "iter 230 value 1865.635793\n",
      "iter 240 value 1865.447134\n",
      "iter 250 value 1865.370986\n",
      "final  value 1865.370986 \n",
      "stopped after 250 iterations\n",
      "# weights:  247\n",
      "initial  value 19539.911222 \n",
      "iter  10 value 4694.489425\n",
      "iter  20 value 2990.195806\n",
      "iter  30 value 2632.531388\n",
      "iter  40 value 2255.031339\n",
      "iter  50 value 2096.721358\n",
      "iter  60 value 1962.708229\n",
      "iter  70 value 1858.330884\n",
      "iter  80 value 1784.914915\n",
      "iter  90 value 1743.770176\n",
      "iter 100 value 1724.328447\n",
      "iter 110 value 1706.055898\n",
      "iter 120 value 1691.426040\n",
      "iter 130 value 1679.989464\n",
      "iter 140 value 1671.384904\n",
      "iter 150 value 1667.847502\n",
      "iter 160 value 1664.270856\n",
      "iter 170 value 1660.118600\n",
      "iter 180 value 1657.805950\n",
      "iter 190 value 1656.852973\n",
      "iter 200 value 1656.227664\n",
      "iter 210 value 1655.633129\n",
      "iter 220 value 1655.436757\n",
      "iter 230 value 1655.377969\n",
      "iter 240 value 1655.231687\n",
      "iter 250 value 1654.984503\n",
      "final  value 1654.984503 \n",
      "stopped after 250 iterations\n",
      "# weights:  247\n"
     ]
    }
   ],
   "source": [
    "ctrl  <- trainControl(method  = \"cv\",number  = 5, \n",
    "                     summaryFunction = multiClassSummary, # Multiple metrics\n",
    "                     classProbs=T,# Required for the ROC curves\n",
    "                     savePredictions = T,\n",
    "                     )\n",
    "\n",
    "set.seed(150)\n",
    "\n",
    "mygrid <- expand.grid(.decay = c(1, 0.5, 0.3, 0.1, 0.001), .size = c(10, 12, 14,16))\n",
    "#decay is the regularization parameter to avoid over-fitting\n",
    "\n",
    "fit.mlp <- train(y~.-y, data = XTrain_scaled, \n",
    "                 method = \"nnet\",\n",
    "                 trControl = ctrl, \n",
    "                 act.fct= \"logistic\",\n",
    "                 maxit = 250,    # Maximum number of iterations\n",
    "                 tuneGrid = mygrid, #data.frame(size = 10, decay = 0),\n",
    "                 metric = \"Accuracy\", linout = FALSE)\n",
    "\n"
   ]
  },
  {
   "cell_type": "code",
   "execution_count": 49,
   "id": "b467a74c-a559-4f73-9615-4a9c84491062",
   "metadata": {},
   "outputs": [
    {
     "ename": "ERROR",
     "evalue": "Error in plot(fit.mlp): object 'fit.mlp' not found\n",
     "output_type": "error",
     "traceback": [
      "Error in plot(fit.mlp): object 'fit.mlp' not found\nTraceback:\n",
      "1. plot(fit.mlp)"
     ]
    }
   ],
   "source": [
    "plot(fit.mlp)\n",
    "fit.mlp$finalModel\n",
    "plot(fit.mlp$finalModel)\n",
    "fit.mlp$bestTune\n",
    "fit.mlp$metric\n",
    "fit.mlp$times\n",
    "fit.mlp$modelInfo\n",
    "fit.mlp\n",
    "\n",
    "str(fit.mlp)"
   ]
  },
  {
   "cell_type": "code",
   "execution_count": null,
   "id": "96a51a7f-ee16-4d7d-9978-1e9c434281b6",
   "metadata": {},
   "outputs": [],
   "source": [
    "prob_cv <- predict(fit.mlp, newdata=XTest_scaled,type = \"prob\")\n",
    "\n",
    "# Classes prédites : \n",
    "y_pred = prob_cv %>% mutate('class'=names(.)[apply(., 1, which.max)])\n",
    "head(prob_cv)\n",
    "\n",
    "#Matrice de confusion :\n",
    "y_test= as.factor(unlist(yTest))\n",
    "conf2 <- confusionMatrix(as.factor(y_pred$class), y_test)\n",
    "conf2\n",
    "\n",
    "#F1_score \n",
    "f1_score = conf2[[\"byClass\"]][ , \"F1\"]\n",
    "mean(f1_score)\n",
    "\n",
    "# Accuracy\n",
    "conf2$overall['Accuracy']\n",
    "\n",
    "\n",
    "#AUC\n",
    "\n",
    "rocurve = multiclass.roc(y_test , prob_cv, levels=levels(y_test))\n",
    "rocurve\n",
    "\n",
    "# AUC = 0.996"
   ]
  },
  {
   "cell_type": "code",
   "execution_count": null,
   "id": "6922ada8-cf6d-464a-adfd-632011a2023f",
   "metadata": {},
   "outputs": [],
   "source": []
  },
  {
   "cell_type": "code",
   "execution_count": null,
   "id": "066b2438-c6a6-4184-90cc-cc5cefc135ca",
   "metadata": {},
   "outputs": [],
   "source": []
  },
  {
   "cell_type": "code",
   "execution_count": null,
   "id": "a0bf793d-fd76-4523-955e-34cf7c889184",
   "metadata": {},
   "outputs": [],
   "source": []
  },
  {
   "cell_type": "code",
   "execution_count": null,
   "id": "f653694b-2c95-4aef-b719-a40e657c4841",
   "metadata": {},
   "outputs": [],
   "source": []
  },
  {
   "cell_type": "code",
   "execution_count": null,
   "id": "9395bedd-b4ce-4375-a332-548d4b90582f",
   "metadata": {},
   "outputs": [],
   "source": []
  },
  {
   "cell_type": "code",
   "execution_count": null,
   "id": "602f96ac-49e0-417e-ae0b-cb2aeca59d53",
   "metadata": {},
   "outputs": [],
   "source": []
  },
  {
   "cell_type": "code",
   "execution_count": null,
   "id": "c73c7bd1-d8ca-446d-9ffd-3fa76853121a",
   "metadata": {},
   "outputs": [],
   "source": []
  },
  {
   "cell_type": "code",
   "execution_count": null,
   "id": "8bb814e9-d05c-47d0-bb24-dc9820f02fca",
   "metadata": {},
   "outputs": [],
   "source": []
  }
 ],
 "metadata": {
  "kernelspec": {
   "display_name": "R",
   "language": "R",
   "name": "ir"
  },
  "language_info": {
   "codemirror_mode": "r",
   "file_extension": ".r",
   "mimetype": "text/x-r-source",
   "name": "R",
   "pygments_lexer": "r",
   "version": "4.1.1"
  }
 },
 "nbformat": 4,
 "nbformat_minor": 5
}
